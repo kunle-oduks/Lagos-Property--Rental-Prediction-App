{
 "cells": [
  {
   "cell_type": "code",
   "execution_count": 550,
   "metadata": {},
   "outputs": [],
   "source": [
    "import pandas as pd\n",
    "import joblib\n",
    "import numpy as np\n",
    "import warnings\n",
    "import seaborn as sns\n",
    "import matplotlib.pyplot as plt\n",
    "import xgboost as xgb\n",
    "from sklearn.model_selection import train_test_split\n",
    "from sklearn.preprocessing import LabelEncoder, StandardScaler\n",
    "from sklearn.linear_model import LinearRegression\n",
    "from sklearn.ensemble import RandomForestRegressor\n",
    "from sklearn.metrics import r2_score\n",
    "warnings.filterwarnings('ignore')"
   ]
  },
  {
   "cell_type": "code",
   "execution_count": 551,
   "metadata": {},
   "outputs": [
    {
     "data": {
      "text/html": [
       "<div>\n",
       "<style scoped>\n",
       "    .dataframe tbody tr th:only-of-type {\n",
       "        vertical-align: middle;\n",
       "    }\n",
       "\n",
       "    .dataframe tbody tr th {\n",
       "        vertical-align: top;\n",
       "    }\n",
       "\n",
       "    .dataframe thead th {\n",
       "        text-align: right;\n",
       "    }\n",
       "</style>\n",
       "<table border=\"1\" class=\"dataframe\">\n",
       "  <thead>\n",
       "    <tr style=\"text-align: right;\">\n",
       "      <th></th>\n",
       "      <th>desc</th>\n",
       "      <th>address</th>\n",
       "      <th>link</th>\n",
       "      <th>price</th>\n",
       "      <th>bedrooms</th>\n",
       "      <th>bathrooms</th>\n",
       "      <th>toilets</th>\n",
       "      <th>parking space</th>\n",
       "      <th>location</th>\n",
       "    </tr>\n",
       "  </thead>\n",
       "  <tbody>\n",
       "    <tr>\n",
       "      <th>0</th>\n",
       "      <td>2 bedroom flat / apartment for rent</td>\n",
       "      <td>Blue Waters, Lekki, Lagos</td>\n",
       "      <td>https://nigeriapropertycentre.com//for-rent/fl...</td>\n",
       "      <td>₦13,000,000 per annum</td>\n",
       "      <td>2 Bedrooms</td>\n",
       "      <td>2 Bathrooms</td>\n",
       "      <td>2 Toilets</td>\n",
       "      <td>1 Parking Space</td>\n",
       "      <td>Lekki</td>\n",
       "    </tr>\n",
       "    <tr>\n",
       "      <th>1</th>\n",
       "      <td>3 bedroom flat / apartment for rent</td>\n",
       "      <td>Banana Island, Ikoyi, Lagos</td>\n",
       "      <td>https://nigeriapropertycentre.com//for-rent/fl...</td>\n",
       "      <td>₦35,000,000 per annum</td>\n",
       "      <td>3 Bedrooms</td>\n",
       "      <td>3 Bathrooms</td>\n",
       "      <td>4 Toilets</td>\n",
       "      <td>2 Parking Spaces</td>\n",
       "      <td>Ikoyi</td>\n",
       "    </tr>\n",
       "    <tr>\n",
       "      <th>2</th>\n",
       "      <td>1 bedroom mini flat (room and parlour) for rent</td>\n",
       "      <td>Osapa, Lekki, Lagos</td>\n",
       "      <td>https://nigeriapropertycentre.com//for-rent/fl...</td>\n",
       "      <td>₦1,500,000 per annum</td>\n",
       "      <td>1 Bedroom</td>\n",
       "      <td>1 Bathroom</td>\n",
       "      <td>1 Toilet</td>\n",
       "      <td>1 Parking Space</td>\n",
       "      <td>Lekki</td>\n",
       "    </tr>\n",
       "    <tr>\n",
       "      <th>3</th>\n",
       "      <td>3 bedroom flat / apartment for rent</td>\n",
       "      <td>Osborne, Ikoyi, Lagos</td>\n",
       "      <td>https://nigeriapropertycentre.com//for-rent/fl...</td>\n",
       "      <td>₦14,000,000 per annum</td>\n",
       "      <td>3 Bedrooms</td>\n",
       "      <td>3 Bathrooms</td>\n",
       "      <td>4 Toilets</td>\n",
       "      <td>Save</td>\n",
       "      <td>Ikoyi</td>\n",
       "    </tr>\n",
       "    <tr>\n",
       "      <th>4</th>\n",
       "      <td>2 bedroom flat / apartment for rent</td>\n",
       "      <td>Ilasan, Lekki, Lagos</td>\n",
       "      <td>https://nigeriapropertycentre.com//for-rent/fl...</td>\n",
       "      <td>₦6,000,000 per annum</td>\n",
       "      <td>2 Bedrooms</td>\n",
       "      <td>2 Bathrooms</td>\n",
       "      <td>3 Toilets</td>\n",
       "      <td>3 Parking Spaces</td>\n",
       "      <td>Lekki</td>\n",
       "    </tr>\n",
       "  </tbody>\n",
       "</table>\n",
       "</div>"
      ],
      "text/plain": [
       "                                              desc  \\\n",
       "0              2 bedroom flat / apartment for rent   \n",
       "1              3 bedroom flat / apartment for rent   \n",
       "2  1 bedroom mini flat (room and parlour) for rent   \n",
       "3              3 bedroom flat / apartment for rent   \n",
       "4              2 bedroom flat / apartment for rent   \n",
       "\n",
       "                       address  \\\n",
       "0    Blue Waters, Lekki, Lagos   \n",
       "1  Banana Island, Ikoyi, Lagos   \n",
       "2          Osapa, Lekki, Lagos   \n",
       "3        Osborne, Ikoyi, Lagos   \n",
       "4         Ilasan, Lekki, Lagos   \n",
       "\n",
       "                                                link                  price  \\\n",
       "0  https://nigeriapropertycentre.com//for-rent/fl...  ₦13,000,000 per annum   \n",
       "1  https://nigeriapropertycentre.com//for-rent/fl...  ₦35,000,000 per annum   \n",
       "2  https://nigeriapropertycentre.com//for-rent/fl...   ₦1,500,000 per annum   \n",
       "3  https://nigeriapropertycentre.com//for-rent/fl...  ₦14,000,000 per annum   \n",
       "4  https://nigeriapropertycentre.com//for-rent/fl...   ₦6,000,000 per annum   \n",
       "\n",
       "     bedrooms    bathrooms    toilets     parking space location  \n",
       "0  2 Bedrooms  2 Bathrooms  2 Toilets   1 Parking Space    Lekki  \n",
       "1  3 Bedrooms  3 Bathrooms  4 Toilets  2 Parking Spaces    Ikoyi  \n",
       "2   1 Bedroom   1 Bathroom   1 Toilet   1 Parking Space    Lekki  \n",
       "3  3 Bedrooms  3 Bathrooms  4 Toilets              Save    Ikoyi  \n",
       "4  2 Bedrooms  2 Bathrooms  3 Toilets  3 Parking Spaces    Lekki  "
      ]
     },
     "execution_count": 551,
     "metadata": {},
     "output_type": "execute_result"
    }
   ],
   "source": [
    "df = pd.read_csv('propertycenter.csv')\n",
    "df.head()"
   ]
  },
  {
   "cell_type": "code",
   "execution_count": 552,
   "metadata": {},
   "outputs": [],
   "source": [
    "data = df.copy()"
   ]
  },
  {
   "cell_type": "markdown",
   "metadata": {},
   "source": [
    "<h3>Feature Engineering<h3>"
   ]
  },
  {
   "cell_type": "code",
   "execution_count": 553,
   "metadata": {},
   "outputs": [],
   "source": [
    "#Just as I created a location column from address, I created a column for the area. The poor prediction ability from the data necessitated the need for this column. This is because different areas within a particular town(location) commanded different rental prices.\n",
    "data['Estate'] = data['address'].apply(lambda x: x.split()[-3] +' ' + x.split()[-4] if len(x.split()) >3 else '')"
   ]
  },
  {
   "cell_type": "code",
   "execution_count": 554,
   "metadata": {},
   "outputs": [
    {
     "data": {
      "text/plain": [
       "ppty_type\n",
       "flat                      8057\n",
       "terraced duplex           3344\n",
       "mini flat                 2012\n",
       "semi-detached duplex      1803\n",
       "detached duplex           1720\n",
       "                          1705\n",
       "(single rooms)            1223\n",
       "house                     1210\n",
       "commercial property        133\n",
       "complex                    122\n",
       "detached bungalow           76\n",
       "semi-detached bungalow      57\n",
       "apartment                   52\n",
       "terraced bungalow           48\n",
       "meeting                     34\n",
       "hotel                       31\n",
       "bar                         31\n",
       " venue                      16\n",
       "block of                    15\n",
       "restaurant                  11\n",
       "office space                 6\n",
       "guest house                  3\n",
       "Name: count, dtype: int64"
      ]
     },
     "execution_count": 554,
     "metadata": {},
     "output_type": "execute_result"
    }
   ],
   "source": [
    "#Column for property type derived from description column\n",
    "data['ppty_type'] =data['desc'].apply(lambda x: x.split()[2] + ' ' + x.split()[3] if len(x.split()) >4 else '') \n",
    "\n",
    "#flat, mini flat, house, terraced duplex, semi-detached duplex, bungalow\n",
    "\n",
    "data['ppty_type'] = data['ppty_type'].str.replace('/', '')\n",
    "data['ppty_type'] = data['ppty_type'].str.replace('for', '')\n",
    "data['ppty_type'].value_counts()"
   ]
  },
  {
   "cell_type": "code",
   "execution_count": 555,
   "metadata": {},
   "outputs": [
    {
     "data": {
      "text/html": [
       "<div>\n",
       "<style scoped>\n",
       "    .dataframe tbody tr th:only-of-type {\n",
       "        vertical-align: middle;\n",
       "    }\n",
       "\n",
       "    .dataframe tbody tr th {\n",
       "        vertical-align: top;\n",
       "    }\n",
       "\n",
       "    .dataframe thead th {\n",
       "        text-align: right;\n",
       "    }\n",
       "</style>\n",
       "<table border=\"1\" class=\"dataframe\">\n",
       "  <thead>\n",
       "    <tr style=\"text-align: right;\">\n",
       "      <th></th>\n",
       "      <th>desc</th>\n",
       "      <th>address</th>\n",
       "      <th>link</th>\n",
       "      <th>price</th>\n",
       "      <th>bedrooms</th>\n",
       "      <th>bathrooms</th>\n",
       "      <th>toilets</th>\n",
       "      <th>parking space</th>\n",
       "      <th>location</th>\n",
       "      <th>Estate</th>\n",
       "      <th>ppty_type</th>\n",
       "    </tr>\n",
       "  </thead>\n",
       "  <tbody>\n",
       "    <tr>\n",
       "      <th>0</th>\n",
       "      <td>2 bedroom flat / apartment for rent</td>\n",
       "      <td>Blue Waters, Lekki, Lagos</td>\n",
       "      <td>https://nigeriapropertycentre.com//for-rent/fl...</td>\n",
       "      <td>₦13,000,000 per annum</td>\n",
       "      <td>2 Bedrooms</td>\n",
       "      <td>2 Bathrooms</td>\n",
       "      <td>2 Toilets</td>\n",
       "      <td>1 Parking Space</td>\n",
       "      <td>Lekki</td>\n",
       "      <td>Waters, Blue</td>\n",
       "      <td>flat</td>\n",
       "    </tr>\n",
       "    <tr>\n",
       "      <th>1</th>\n",
       "      <td>3 bedroom flat / apartment for rent</td>\n",
       "      <td>Banana Island, Ikoyi, Lagos</td>\n",
       "      <td>https://nigeriapropertycentre.com//for-rent/fl...</td>\n",
       "      <td>₦35,000,000 per annum</td>\n",
       "      <td>3 Bedrooms</td>\n",
       "      <td>3 Bathrooms</td>\n",
       "      <td>4 Toilets</td>\n",
       "      <td>2 Parking Spaces</td>\n",
       "      <td>Ikoyi</td>\n",
       "      <td>Island, Banana</td>\n",
       "      <td>flat</td>\n",
       "    </tr>\n",
       "    <tr>\n",
       "      <th>2</th>\n",
       "      <td>1 bedroom mini flat (room and parlour) for rent</td>\n",
       "      <td>Osapa, Lekki, Lagos</td>\n",
       "      <td>https://nigeriapropertycentre.com//for-rent/fl...</td>\n",
       "      <td>₦1,500,000 per annum</td>\n",
       "      <td>1 Bedroom</td>\n",
       "      <td>1 Bathroom</td>\n",
       "      <td>1 Toilet</td>\n",
       "      <td>1 Parking Space</td>\n",
       "      <td>Lekki</td>\n",
       "      <td></td>\n",
       "      <td>mini flat</td>\n",
       "    </tr>\n",
       "    <tr>\n",
       "      <th>3</th>\n",
       "      <td>3 bedroom flat / apartment for rent</td>\n",
       "      <td>Osborne, Ikoyi, Lagos</td>\n",
       "      <td>https://nigeriapropertycentre.com//for-rent/fl...</td>\n",
       "      <td>₦14,000,000 per annum</td>\n",
       "      <td>3 Bedrooms</td>\n",
       "      <td>3 Bathrooms</td>\n",
       "      <td>4 Toilets</td>\n",
       "      <td>Save</td>\n",
       "      <td>Ikoyi</td>\n",
       "      <td></td>\n",
       "      <td>flat</td>\n",
       "    </tr>\n",
       "    <tr>\n",
       "      <th>4</th>\n",
       "      <td>2 bedroom flat / apartment for rent</td>\n",
       "      <td>Ilasan, Lekki, Lagos</td>\n",
       "      <td>https://nigeriapropertycentre.com//for-rent/fl...</td>\n",
       "      <td>₦6,000,000 per annum</td>\n",
       "      <td>2 Bedrooms</td>\n",
       "      <td>2 Bathrooms</td>\n",
       "      <td>3 Toilets</td>\n",
       "      <td>3 Parking Spaces</td>\n",
       "      <td>Lekki</td>\n",
       "      <td></td>\n",
       "      <td>flat</td>\n",
       "    </tr>\n",
       "  </tbody>\n",
       "</table>\n",
       "</div>"
      ],
      "text/plain": [
       "                                              desc  \\\n",
       "0              2 bedroom flat / apartment for rent   \n",
       "1              3 bedroom flat / apartment for rent   \n",
       "2  1 bedroom mini flat (room and parlour) for rent   \n",
       "3              3 bedroom flat / apartment for rent   \n",
       "4              2 bedroom flat / apartment for rent   \n",
       "\n",
       "                       address  \\\n",
       "0    Blue Waters, Lekki, Lagos   \n",
       "1  Banana Island, Ikoyi, Lagos   \n",
       "2          Osapa, Lekki, Lagos   \n",
       "3        Osborne, Ikoyi, Lagos   \n",
       "4         Ilasan, Lekki, Lagos   \n",
       "\n",
       "                                                link                  price  \\\n",
       "0  https://nigeriapropertycentre.com//for-rent/fl...  ₦13,000,000 per annum   \n",
       "1  https://nigeriapropertycentre.com//for-rent/fl...  ₦35,000,000 per annum   \n",
       "2  https://nigeriapropertycentre.com//for-rent/fl...   ₦1,500,000 per annum   \n",
       "3  https://nigeriapropertycentre.com//for-rent/fl...  ₦14,000,000 per annum   \n",
       "4  https://nigeriapropertycentre.com//for-rent/fl...   ₦6,000,000 per annum   \n",
       "\n",
       "     bedrooms    bathrooms    toilets     parking space location  \\\n",
       "0  2 Bedrooms  2 Bathrooms  2 Toilets   1 Parking Space    Lekki   \n",
       "1  3 Bedrooms  3 Bathrooms  4 Toilets  2 Parking Spaces    Ikoyi   \n",
       "2   1 Bedroom   1 Bathroom   1 Toilet   1 Parking Space    Lekki   \n",
       "3  3 Bedrooms  3 Bathrooms  4 Toilets              Save    Ikoyi   \n",
       "4  2 Bedrooms  2 Bathrooms  3 Toilets  3 Parking Spaces    Lekki   \n",
       "\n",
       "           Estate  ppty_type  \n",
       "0    Waters, Blue      flat   \n",
       "1  Island, Banana      flat   \n",
       "2                  mini flat  \n",
       "3                      flat   \n",
       "4                      flat   "
      ]
     },
     "execution_count": 555,
     "metadata": {},
     "output_type": "execute_result"
    }
   ],
   "source": [
    "data.head()"
   ]
  },
  {
   "cell_type": "code",
   "execution_count": 556,
   "metadata": {},
   "outputs": [
    {
     "data": {
      "text/plain": [
       "array(['Waters, Blue', 'Island, Banana', '', ..., 'Cele, Way,',\n",
       "       'Estate,, Layout', 'Mall, Purple'], dtype=object)"
      ]
     },
     "execution_count": 556,
     "metadata": {},
     "output_type": "execute_result"
    }
   ],
   "source": [
    "\n",
    "data['Estate'].unique()"
   ]
  },
  {
   "cell_type": "code",
   "execution_count": 557,
   "metadata": {},
   "outputs": [
    {
     "data": {
      "text/plain": [
       "array(['2 bedroom flat / apartment for rent',\n",
       "       '3 bedroom flat / apartment for rent',\n",
       "       '1 bedroom mini flat (room and parlour) for rent',\n",
       "       '5 bedroom house for rent', '4 bedroom terraced duplex for rent',\n",
       "       '3 bedroom terraced duplex for rent', 'Shop for rent',\n",
       "       '3 bedroom house for rent', '6 bedroom detached duplex for rent',\n",
       "       '4 bedroom semi-detached duplex for rent',\n",
       "       '5 bedroom semi-detached duplex for rent',\n",
       "       '1 bedroom flat / apartment for rent',\n",
       "       '5 bedroom detached duplex for rent',\n",
       "       '2 bedroom terraced duplex for rent',\n",
       "       'Self contain (single rooms) for rent', '2 bedroom house for rent',\n",
       "       '10 bedroom detached duplex for rent',\n",
       "       '6 bedroom flat / apartment for rent',\n",
       "       '4 bedroom detached duplex for rent',\n",
       "       '5 bedroom terraced duplex for rent',\n",
       "       'Commercial property for rent', '4 bedroom house for rent',\n",
       "       'Office space for rent', '3 bedroom semi-detached duplex for rent',\n",
       "       '4 bedroom flat / apartment for rent',\n",
       "       '5 bedroom commercial property for rent',\n",
       "       '5 bedroom flat / apartment for rent',\n",
       "       '3 bedroom detached duplex for rent', '1 bedroom house for rent',\n",
       "       'Plaza / complex / mall for rent',\n",
       "       '7 bedroom detached duplex for rent',\n",
       "       '2 bedroom semi-detached duplex for rent', 'Hall for rent',\n",
       "       '2 bedroom detached bungalow for rent', 'Warehouse for rent',\n",
       "       '1 bedroom detached duplex for rent',\n",
       "       '1 bedroom semi-detached duplex for rent',\n",
       "       '4 bedroom semi-detached bungalow for rent',\n",
       "       '6 bedroom commercial property for rent',\n",
       "       '3 bedroom terraced bungalow for rent',\n",
       "       '3 bedroom detached bungalow for rent',\n",
       "       '4 bedroom commercial property for rent',\n",
       "       '8 bedroom detached bungalow for rent',\n",
       "       '2 bedroom terraced bungalow for rent',\n",
       "       '2 bedroom office space for rent', 'Commercial land for rent',\n",
       "       '2 bedroom detached duplex for rent', '6 bedroom house for rent',\n",
       "       '22 bedroom flat / apartment for rent',\n",
       "       'Flat / apartment for rent', '8 bedroom detached duplex for rent',\n",
       "       '9 bedroom detached duplex for rent',\n",
       "       '1 bedroom terraced duplex for rent',\n",
       "       '11 bedroom commercial property for rent',\n",
       "       '3 bedroom semi-detached bungalow for rent',\n",
       "       '2 bedroom commercial property for rent',\n",
       "       '6 bedroom terraced duplex for rent', 'Land for rent',\n",
       "       '50 bedroom detached duplex for rent',\n",
       "       '2 bedroom semi-detached bungalow for rent',\n",
       "       '10 bedroom commercial property for rent',\n",
       "       '8 bedroom commercial property for rent',\n",
       "       '10 bedroom hotel / guest house for rent',\n",
       "       'Event centre / venue for rent',\n",
       "       '5 bedroom semi-detached bungalow for rent',\n",
       "       '1 bedroom detached bungalow for rent',\n",
       "       '4 bedroom detached bungalow for rent',\n",
       "       '9 bedroom semi-detached duplex for rent',\n",
       "       '20 bedroom flat / apartment for rent',\n",
       "       '3 bedroom block of flats for rent', 'Mixed-use land for rent',\n",
       "       'Restaurant / bar for rent',\n",
       "       '25 bedroom hotel / guest house for rent',\n",
       "       '6 bedroom semi-detached duplex for rent',\n",
       "       'Conference / meeting / training room for rent',\n",
       "       '1 bedroom restaurant / bar for rent',\n",
       "       '32 bedroom flat / apartment for rent',\n",
       "       '4 bedroom restaurant / bar for rent',\n",
       "       '22 bedroom block of flats for rent', 'Tank farm for rent',\n",
       "       '9 bedroom house for rent',\n",
       "       '3 bedroom commercial property for rent',\n",
       "       '14 bedroom hotel / guest house for rent',\n",
       "       '10 bedroom block of flats for rent',\n",
       "       '4 bedroom office space for rent',\n",
       "       '4 bedroom block of flats for rent', '10 bedroom house for rent',\n",
       "       '6 bedroom hotel / guest house for rent',\n",
       "       '17 bedroom block of flats for rent',\n",
       "       '36 bedroom flat / apartment for rent',\n",
       "       '12 bedroom commercial property for rent',\n",
       "       '10 bedroom restaurant / bar for rent', '7 bedroom house for rent',\n",
       "       '16 bedroom house for rent',\n",
       "       '17 bedroom hotel / guest house for rent',\n",
       "       '11 bedroom detached duplex for rent',\n",
       "       '4 bedroom terraced bungalow for rent',\n",
       "       '15 bedroom commercial property for rent',\n",
       "       '7 bedroom commercial property for rent',\n",
       "       '20 bedroom detached duplex for rent',\n",
       "       '13 bedroom hotel / guest house for rent',\n",
       "       '35 bedroom hotel / guest house for rent',\n",
       "       '36 bedroom hotel / guest house for rent',\n",
       "       '31 bedroom detached duplex for rent',\n",
       "       '5 bedroom detached bungalow for rent',\n",
       "       '8 bedroom semi-detached duplex for rent',\n",
       "       '8 bedroom house for rent', '18 bedroom detached duplex for rent',\n",
       "       '17 bedroom house for rent',\n",
       "       '32 bedroom commercial property for rent', 'Church for rent',\n",
       "       '16 bedroom detached duplex for rent',\n",
       "       '12 bedroom detached duplex for rent',\n",
       "       '96 bedroom flat / apartment for rent',\n",
       "       '14 bedroom detached duplex for rent',\n",
       "       '15 bedroom flat / apartment for rent',\n",
       "       '7 bedroom hotel / guest house for rent',\n",
       "       'Filling station for rent',\n",
       "       '13 bedroom detached bungalow for rent',\n",
       "       '13 bedroom detached duplex for rent',\n",
       "       '7 bedroom restaurant / bar for rent',\n",
       "       '15 bedroom detached duplex for rent',\n",
       "       '10 bedroom semi-detached duplex for rent',\n",
       "       'Hotel / guest house for rent',\n",
       "       '12 bedroom terraced duplex for rent', 'Factory for rent',\n",
       "       '19 bedroom flat / apartment for rent',\n",
       "       '1 bedroom office space for rent',\n",
       "       '7 bedroom semi-detached duplex for rent',\n",
       "       '3 bedroom restaurant / bar for rent',\n",
       "       '3 bedroom office space for rent',\n",
       "       '33 bedroom flat / apartment for rent',\n",
       "       '56 bedroom flat / apartment for rent',\n",
       "       '12 bedroom restaurant / bar for rent',\n",
       "       'Residential land for rent', '5 bedroom restaurant / bar for rent',\n",
       "       '2 bedroom block of flats for rent', '13 bedroom house for rent',\n",
       "       '28 bedroom flat / apartment for rent',\n",
       "       '1 bedroom hotel / guest house for rent',\n",
       "       '52 bedroom house for rent', '11 bedroom house for rent',\n",
       "       'School for rent', '8 bedroom flat / apartment for rent',\n",
       "       '24 bedroom hotel / guest house for rent',\n",
       "       '1 bedroom commercial property for rent',\n",
       "       '20 bedroom terraced duplex for rent',\n",
       "       '18 bedroom flat / apartment for rent', 'House for rent',\n",
       "       '16 bedroom hotel / guest house for rent',\n",
       "       '11 bedroom hotel / guest house for rent',\n",
       "       '22 bedroom house for rent', '72 bedroom house for rent',\n",
       "       '20 bedroom block of flats for rent', '39 bedroom house for rent',\n",
       "       '24 bedroom flat / apartment for rent', 'Industrial land for rent',\n",
       "       '60 bedroom hotel / guest house for rent',\n",
       "       '18 bedroom hotel / guest house for rent',\n",
       "       '32 bedroom hotel / guest house for rent',\n",
       "       '24 bedroom house for rent',\n",
       "       '20 bedroom hotel / guest house for rent',\n",
       "       '21 bedroom house for rent', '12 bedroom house for rent',\n",
       "       '13 bedroom flat / apartment for rent',\n",
       "       '35 bedroom flat / apartment for rent',\n",
       "       '37 bedroom house for rent', '10 bedroom terraced duplex for rent',\n",
       "       '11 bedroom semi-detached duplex for rent',\n",
       "       '32 bedroom house for rent',\n",
       "       '37 bedroom flat / apartment for rent',\n",
       "       '12 bedroom hotel / guest house for rent'], dtype=object)"
      ]
     },
     "execution_count": 557,
     "metadata": {},
     "output_type": "execute_result"
    }
   ],
   "source": [
    "df['desc'].unique()"
   ]
  },
  {
   "cell_type": "code",
   "execution_count": 558,
   "metadata": {},
   "outputs": [
    {
     "data": {
      "text/plain": [
       "array(['2 Bathrooms', '3 Bathrooms', '1 Bathroom', '5 Bathrooms',\n",
       "       '4 Bathrooms', 'Save', '6 Bathrooms', '1 Toilet', '2 Toilets',\n",
       "       '3 Toilets', '4 Toilets', '7 Bathrooms', '500 sqm Total Area',\n",
       "       '5 Toilets', '10 Bathrooms', '28 sqm Covered Area',\n",
       "       '20 Parking Spaces', '1,000 sqm Covered Area', '6 Toilets',\n",
       "       '7 Toilets', '10 Parking Spaces', '2 Parking Spaces',\n",
       "       '3 Parking Spaces', '400 sqm Total Area', '22 Bathrooms',\n",
       "       '8 Bathrooms', '12 Bathrooms', '1 Parking Space',\n",
       "       '5 Parking Spaces', '9 Bathrooms', '600 sqm Total Area',\n",
       "       '6 Parking Spaces', '322 sqm Covered Area', '65 sqm Total Area',\n",
       "       '20 Bathrooms', '25 Bathrooms', '2,828 sqm Covered Area',\n",
       "       '2,000 sqm Total Area', '32 Bathrooms', '120 sqm Total Area',\n",
       "       '332 sqm Covered Area', '300 sqm Total Area', '8 Toilets',\n",
       "       '16 Toilets', '10 Toilets', '104 sqm Covered Area',\n",
       "       '460 sqm Total Area', '1,900 sqm Covered Area',\n",
       "       '750 sqm Total Area', '100 sqm Total Area', '1,000 sqm Total Area',\n",
       "       '220 sqm Total Area', '50 sqm Total Area', '8 Parking Spaces',\n",
       "       '52 sqm Total Area', '17 Bathrooms', '16 Bathrooms',\n",
       "       '12 Parking Spaces', '36 Bathrooms', '43 Bathrooms',\n",
       "       '35 sqm Total Area', '178 sqm Total Area', '345 sqm Total Area',\n",
       "       '4 Parking Spaces', '15 Bathrooms', '18 Bathrooms',\n",
       "       '973 sqm Total Area', '210 sqm Total Area', '40 Bathrooms',\n",
       "       '65 sqm Covered Area', '30 Parking Spaces', '500 sqm Covered Area',\n",
       "       '25 Parking Spaces', '14 Bathrooms', '2,340 sqm Total Area',\n",
       "       '169 sqm Covered Area', '3,000 sqm Total Area',\n",
       "       '36 sqm Total Area', '39 sqm Total Area', '200 sqm Total Area',\n",
       "       '973 sqm Covered Area', '800 sqm Total Area',\n",
       "       '25 sqm Covered Area', '7 Parking Spaces', '11 Toilets',\n",
       "       '11 Bathrooms', '40 Parking Spaces', '250 sqm Total Area',\n",
       "       '2,180 sqm Covered Area', '350 sqm Total Area', '48 Bathrooms',\n",
       "       '200 Parking Spaces', '100 Parking Spaces', '12 Toilets',\n",
       "       '46 sqm Total Area', '3,200 sqm Total Area', '15 Parking Spaces',\n",
       "       '54 sqm Total Area', '12,804 sqm Covered Area',\n",
       "       '11 Parking Spaces', '60 Parking Spaces', '16 Parking Spaces',\n",
       "       '15 Toilets', '315 sqm Total Area', '20 sqm Total Area',\n",
       "       '57 sqm Total Area', '650 sqm Covered Area',\n",
       "       '298 sqm Covered Area', '18 Toilets', '130 sqm Covered Area',\n",
       "       '996 sqm Covered Area', '13 Bathrooms', '27 sqm Total Area',\n",
       "       '200 sqm Covered Area', '37 Toilets', '50 Parking Spaces',\n",
       "       '320 sqm Covered Area', '90 Bathrooms', '832 sqm Covered Area',\n",
       "       '427 sqm Covered Area', '405 sqm Covered Area',\n",
       "       '1,093 sqm Covered Area', '63 sqm Total Area', '45 Toilets',\n",
       "       '600 sqm Covered Area', '20 Toilets', '500 Bathrooms',\n",
       "       '630 sqm Covered Area', '40 sqm Total Area', '33 Bathrooms',\n",
       "       '300 sqm Covered Area', '1,100 sqm Covered Area', '56 Bathrooms',\n",
       "       '10,000 sqm Covered Area', '1,500 sqm Total Area',\n",
       "       '325 sqm Total Area', '80 sqm Total Area', '240 sqm Total Area',\n",
       "       '13 Toilets', '64 sqm Total Area', '28 Bathrooms', '23 Bathrooms',\n",
       "       '570 sqm Covered Area', '1,390 sqm Total Area', '287 Bathrooms',\n",
       "       '28 sqm Total Area', '1,267 sqm Total Area', '22 Toilets',\n",
       "       '180 sqm Covered Area', '660 sqm Covered Area',\n",
       "       '160 sqm Total Area', '900 sqm Total Area', '14 Toilets',\n",
       "       '25 Toilets', '407 sqm Total Area', '350 sqm Covered Area',\n",
       "       '15 sqm Covered Area', '10 sqm Covered Area',\n",
       "       '108 sqm Covered Area', '24 Bathrooms', '1,200 sqm Covered Area',\n",
       "       '450 sqm Covered Area', '436 sqm Total Area', '32 Toilets',\n",
       "       '136 sqm Covered Area', '70 sqm Total Area',\n",
       "       '3,100 sqm Total Area', '44 Toilets', '150 sqm Total Area',\n",
       "       '72 Bathrooms', '288 sqm Total Area', '1,800 sqm Covered Area',\n",
       "       '45 sqm Covered Area', '62 Parking Spaces', '185 sqm Total Area',\n",
       "       '288 sqm Covered Area', '213 sqm Total Area',\n",
       "       '715 sqm Covered Area', '405 sqm Total Area', '39 Bathrooms',\n",
       "       '652 sqm Total Area', '270 sqm Covered Area', '55 Toilets',\n",
       "       '65 Toilets', '840 sqm Covered Area', '60 sqm Covered Area',\n",
       "       '400 sqm Covered Area', '256 sqm Total Area',\n",
       "       '35 sqm Covered Area', '65 Bathrooms', '1,700 sqm Total Area',\n",
       "       '15 sqm Total Area', '34 sqm Total Area', '2,000 sqm Covered Area',\n",
       "       '116 sqm Covered Area', '700 sqm Covered Area',\n",
       "       '800 sqm Covered Area', '1,100 sqm Total Area',\n",
       "       '100 sqm Covered Area', '468 sqm Covered Area',\n",
       "       '30 sqm Total Area', '21 Bathrooms', '2,900 sqm Covered Area',\n",
       "       '32 sqm Total Area', '5,578 sqm Covered Area',\n",
       "       '40 sqm Covered Area', '45 Bathrooms', '169 sqm Total Area',\n",
       "       '3,400 sqm Covered Area', '37 Bathrooms', '830 sqm Covered Area',\n",
       "       '400 Bathrooms', '776 sqm Covered Area', '100 Toilets',\n",
       "       '2,500 sqm Covered Area', '140 sqm Covered Area',\n",
       "       '8,000 sqm Covered Area', '850 sqm Covered Area',\n",
       "       '1,700 sqm Covered Area', '25,000 sqm Total Area',\n",
       "       '260 sqm Total Area', '4,400 sqm Covered Area', '38 Bathrooms'],\n",
       "      dtype=object)"
      ]
     },
     "execution_count": 558,
     "metadata": {},
     "output_type": "execute_result"
    }
   ],
   "source": [
    "data['bathrooms'].unique()"
   ]
  },
  {
   "cell_type": "code",
   "execution_count": 559,
   "metadata": {},
   "outputs": [
    {
     "data": {
      "text/plain": [
       "(21709, 11)"
      ]
     },
     "execution_count": 559,
     "metadata": {},
     "output_type": "execute_result"
    }
   ],
   "source": [
    "data.shape"
   ]
  },
  {
   "cell_type": "code",
   "execution_count": 560,
   "metadata": {},
   "outputs": [
    {
     "name": "stdout",
     "output_type": "stream",
     "text": [
      "<class 'pandas.core.frame.DataFrame'>\n",
      "RangeIndex: 21709 entries, 0 to 21708\n",
      "Data columns (total 11 columns):\n",
      " #   Column         Non-Null Count  Dtype \n",
      "---  ------         --------------  ----- \n",
      " 0   desc           21709 non-null  object\n",
      " 1   address        21709 non-null  object\n",
      " 2   link           21709 non-null  object\n",
      " 3   price          21709 non-null  object\n",
      " 4   bedrooms       20905 non-null  object\n",
      " 5   bathrooms      21709 non-null  object\n",
      " 6   toilets        21709 non-null  object\n",
      " 7   parking space  20554 non-null  object\n",
      " 8   location       21709 non-null  object\n",
      " 9   Estate         21709 non-null  object\n",
      " 10  ppty_type      21709 non-null  object\n",
      "dtypes: object(11)\n",
      "memory usage: 1.8+ MB\n"
     ]
    }
   ],
   "source": [
    "data.info()"
   ]
  },
  {
   "cell_type": "markdown",
   "metadata": {},
   "source": [
    "<h3><h2>Data Cleaning<h1>"
   ]
  },
  {
   "cell_type": "code",
   "execution_count": 561,
   "metadata": {},
   "outputs": [],
   "source": [
    "# the initial copied data included properties for other uses such as warehouses and tank farms. These data points were dropped from this analysis.\n",
    "target = ['Warehouse', 'Tank', 'Commercial', 'Office', 'Plaza', 'complex', 'hotel', 'guest', 'Hall', 'shop' ]\n",
    "mask = data['desc'].str.contains('|'.join(target))\n",
    "data = data.drop(df[mask].index)            "
   ]
  },
  {
   "cell_type": "code",
   "execution_count": 562,
   "metadata": {},
   "outputs": [
    {
     "data": {
      "text/plain": [
       "0        13000000.0\n",
       "1        35000000.0\n",
       "2         1500000.0\n",
       "3        14000000.0\n",
       "4         6000000.0\n",
       "            ...    \n",
       "21704     5500000.0\n",
       "21705    15000000.0\n",
       "21706     6500000.0\n",
       "21707    15000000.0\n",
       "21708     6500000.0\n",
       "Name: price, Length: 20214, dtype: float64"
      ]
     },
     "execution_count": 562,
     "metadata": {},
     "output_type": "execute_result"
    }
   ],
   "source": [
    "#cleaned the price column to have a numeric data\n",
    "data.price = data.price.str.replace('₦', '')\n",
    "data.price = data.price.str.replace('per annum', '')\n",
    "data.price = data.price.str.replace(',', '')\n",
    "data.price = pd.to_numeric(data.price, errors = 'coerce')\n",
    "data.price"
   ]
  },
  {
   "cell_type": "code",
   "execution_count": 563,
   "metadata": {},
   "outputs": [
    {
     "data": {
      "text/plain": [
       "desc               0\n",
       "address            0\n",
       "link               0\n",
       "price            393\n",
       "bedrooms         334\n",
       "bathrooms          0\n",
       "toilets            0\n",
       "parking space    875\n",
       "location           0\n",
       "Estate             0\n",
       "ppty_type          0\n",
       "dtype: int64"
      ]
     },
     "execution_count": 563,
     "metadata": {},
     "output_type": "execute_result"
    }
   ],
   "source": [
    "data.isnull().sum()"
   ]
  },
  {
   "cell_type": "code",
   "execution_count": 564,
   "metadata": {},
   "outputs": [],
   "source": [
    "#removed null values and replaced categorical data points with mode of column and numeric data with median. This will probably introduce acceptable errors\n",
    "for i in data.columns:\n",
    "    if ((data[i].isnull().sum()/len(data[i]))*100) < 30:\n",
    "        if data[i].dtype != 'O':\n",
    "            data[i].fillna(data[i].median(), inplace = True)\n",
    "        else:\n",
    "            data[i].fillna(data[i].mode()[0], inplace = True)\n",
    "    else:\n",
    "        data.drop(i, axis = 1, inplace = True)\n",
    "\n"
   ]
  },
  {
   "cell_type": "code",
   "execution_count": 565,
   "metadata": {},
   "outputs": [
    {
     "data": {
      "text/plain": [
       "desc             0\n",
       "address          0\n",
       "link             0\n",
       "price            0\n",
       "bedrooms         0\n",
       "bathrooms        0\n",
       "toilets          0\n",
       "parking space    0\n",
       "location         0\n",
       "Estate           0\n",
       "ppty_type        0\n",
       "dtype: int64"
      ]
     },
     "execution_count": 565,
     "metadata": {},
     "output_type": "execute_result"
    }
   ],
   "source": [
    "data.isnull().sum()"
   ]
  },
  {
   "cell_type": "code",
   "execution_count": 566,
   "metadata": {},
   "outputs": [],
   "source": [
    "# the data showed that the scraping created some errors because some columns data points were found in columns preceidng theirs. Hence there was the need to move the data values into their rightful columns\n",
    "mask = data['bedrooms'].str.contains('Bathroom') \n",
    "mask1 = data['bedrooms'].str.contains('Toilet')\n",
    "mask2 = data['bedrooms'].str.contains('Parking Space')\n",
    "data.loc[mask, 'bathrooms'] = data.loc[mask, 'bedrooms']\n",
    "data.loc[mask1, 'toilets'] = data.loc[mask, 'bedrooms'] \n",
    "data.loc[mask2, 'parking space'] = data.loc[mask, 'bedrooms'] "
   ]
  },
  {
   "cell_type": "code",
   "execution_count": 567,
   "metadata": {},
   "outputs": [],
   "source": [
    "mask = data['bathrooms'].str.contains('Toilet')\n",
    "mask2 = data['bathrooms'].str.contains('Parking Space')\n",
    "data.loc[mask, 'toilets'] = data.loc[mask, 'bathrooms'] \n",
    "data.loc[mask2, 'parking space'] = data.loc[mask, 'bathrooms'] "
   ]
  },
  {
   "cell_type": "code",
   "execution_count": 568,
   "metadata": {},
   "outputs": [
    {
     "data": {
      "text/plain": [
       "desc               0\n",
       "address            0\n",
       "link               0\n",
       "price              0\n",
       "bedrooms           0\n",
       "bathrooms          0\n",
       "toilets          150\n",
       "parking space     62\n",
       "location           0\n",
       "Estate             0\n",
       "ppty_type          0\n",
       "dtype: int64"
      ]
     },
     "execution_count": 568,
     "metadata": {},
     "output_type": "execute_result"
    }
   ],
   "source": [
    "data.isnull().sum()"
   ]
  },
  {
   "cell_type": "code",
   "execution_count": 569,
   "metadata": {},
   "outputs": [],
   "source": [
    "#removal of empty rows created as a result of movement of data from one column to another\n",
    "data.dropna(inplace= True)"
   ]
  },
  {
   "cell_type": "code",
   "execution_count": 570,
   "metadata": {},
   "outputs": [
    {
     "data": {
      "text/plain": [
       "desc             0\n",
       "address          0\n",
       "link             0\n",
       "price            0\n",
       "bedrooms         0\n",
       "bathrooms        0\n",
       "toilets          0\n",
       "parking space    0\n",
       "location         0\n",
       "Estate           0\n",
       "ppty_type        0\n",
       "dtype: int64"
      ]
     },
     "execution_count": 570,
     "metadata": {},
     "output_type": "execute_result"
    }
   ],
   "source": [
    "data.isnull().sum()"
   ]
  },
  {
   "cell_type": "code",
   "execution_count": 571,
   "metadata": {},
   "outputs": [
    {
     "data": {
      "text/plain": [
       "(20025, 11)"
      ]
     },
     "execution_count": 571,
     "metadata": {},
     "output_type": "execute_result"
    }
   ],
   "source": [
    "data.shape"
   ]
  },
  {
   "cell_type": "code",
   "execution_count": 572,
   "metadata": {},
   "outputs": [],
   "source": [
    "data.dropna(inplace= True)"
   ]
  },
  {
   "cell_type": "code",
   "execution_count": 573,
   "metadata": {},
   "outputs": [],
   "source": [
    "mask = data['toilets'].str.contains('Parking Space')\n",
    "data.loc[mask, 'parking space'] = data.loc[mask, 'toilets'] "
   ]
  },
  {
   "cell_type": "code",
   "execution_count": 574,
   "metadata": {},
   "outputs": [
    {
     "data": {
      "text/plain": [
       "desc             0\n",
       "address          0\n",
       "link             0\n",
       "price            0\n",
       "bedrooms         0\n",
       "bathrooms        0\n",
       "toilets          0\n",
       "parking space    0\n",
       "location         0\n",
       "Estate           0\n",
       "ppty_type        0\n",
       "dtype: int64"
      ]
     },
     "execution_count": 574,
     "metadata": {},
     "output_type": "execute_result"
    }
   ],
   "source": [
    "data.isnull().sum()"
   ]
  },
  {
   "cell_type": "code",
   "execution_count": 575,
   "metadata": {},
   "outputs": [
    {
     "data": {
      "text/plain": [
       "array(['2 Bedrooms', '3 Bedrooms', '1 Bedroom', '5 Bedrooms',\n",
       "       '4 Bedrooms', '6 Bedrooms', '1 Bathroom', '10 Bedrooms',\n",
       "       '7 Bedrooms', '3 Bathrooms', '8 Bedrooms', '22 Bedrooms',\n",
       "       '9 Bedrooms', '11 Bedrooms', '50 Bedrooms', '520 sqm Total Area',\n",
       "       '180 sqm Total Area', '20 Bedrooms', '550 sqm Total Area',\n",
       "       '32 Bedrooms', '2 Bathrooms', '332 sqm Total Area',\n",
       "       '1,900 sqm Total Area', '17 Bedrooms', '350 sqm Total Area',\n",
       "       '36 Bedrooms', '12 Bedrooms', '4,029 sqm Total Area',\n",
       "       '16 Bedrooms', '15 Bedrooms', '1,000 sqm Total Area',\n",
       "       '31 Bedrooms', '2,000 sqm Total Area', '18 Bedrooms',\n",
       "       '200 sqm Covered Area', '25 sqm Total Area', '500 sqm Total Area',\n",
       "       '24 sqm Total Area', '420 sqm Total Area', '100 sqm Covered Area',\n",
       "       '96 Bedrooms', '14 Bedrooms', '1,687 sqm Total Area',\n",
       "       '120 sqm Total Area', '13 Bedrooms', '90 sqm Covered Area',\n",
       "       '250 sqm Total Area', '19 Bedrooms', '4 Bathrooms', '9 Bathrooms',\n",
       "       '630 sqm Total Area', '33 Bedrooms', '56 Bedrooms',\n",
       "       '400 sqm Covered Area', '15 Bathrooms', '1,390 sqm Total Area',\n",
       "       '28 Bedrooms', '52 Bedrooms', '160 sqm Total Area', '8 Bathrooms',\n",
       "       '800 sqm Total Area', '1,200 sqm Total Area',\n",
       "       '1,100 sqm Total Area', '700 sqm Covered Area',\n",
       "       '3,400 sqm Total Area', '150 sqm Covered Area',\n",
       "       '720 sqm Total Area', '4,000 sqm Covered Area', '72 Bedrooms',\n",
       "       '39 Bedrooms', '24 Bedrooms', '652 sqm Total Area',\n",
       "       '2,588 sqm Total Area', '1,250 sqm Total Area', '21 Bedrooms',\n",
       "       '113 sqm Total Area', '600 sqm Total Area', '35 Bedrooms',\n",
       "       '37 Bedrooms', '920 sqm Total Area'], dtype=object)"
      ]
     },
     "execution_count": 575,
     "metadata": {},
     "output_type": "execute_result"
    }
   ],
   "source": [
    "#bedroom columns still had some features that include that of warehouse and lands\n",
    "data['bedrooms'].unique()"
   ]
  },
  {
   "cell_type": "code",
   "execution_count": 576,
   "metadata": {},
   "outputs": [],
   "source": [
    "#Code takes only values that have bedrooms\n",
    "data['bedrooms'] = data['bedrooms'].apply(lambda x: x if ('Bedroom') in x else '')"
   ]
  },
  {
   "cell_type": "code",
   "execution_count": 577,
   "metadata": {},
   "outputs": [
    {
     "data": {
      "text/plain": [
       "array(['2 Bedrooms', '3 Bedrooms', '1 Bedroom', '5 Bedrooms',\n",
       "       '4 Bedrooms', '6 Bedrooms', '', '10 Bedrooms', '7 Bedrooms',\n",
       "       '8 Bedrooms', '22 Bedrooms', '9 Bedrooms', '11 Bedrooms',\n",
       "       '50 Bedrooms', '20 Bedrooms', '32 Bedrooms', '17 Bedrooms',\n",
       "       '36 Bedrooms', '12 Bedrooms', '16 Bedrooms', '15 Bedrooms',\n",
       "       '31 Bedrooms', '18 Bedrooms', '96 Bedrooms', '14 Bedrooms',\n",
       "       '13 Bedrooms', '19 Bedrooms', '33 Bedrooms', '56 Bedrooms',\n",
       "       '28 Bedrooms', '52 Bedrooms', '72 Bedrooms', '39 Bedrooms',\n",
       "       '24 Bedrooms', '21 Bedrooms', '35 Bedrooms', '37 Bedrooms'],\n",
       "      dtype=object)"
      ]
     },
     "execution_count": 577,
     "metadata": {},
     "output_type": "execute_result"
    }
   ],
   "source": [
    "data['bedrooms'].unique()"
   ]
  },
  {
   "cell_type": "code",
   "execution_count": 578,
   "metadata": {},
   "outputs": [
    {
     "data": {
      "text/plain": [
       "array(['2 Bathrooms', '3 Bathrooms', '1 Bathroom', '5 Bathrooms',\n",
       "       '4 Bathrooms', 'Save', '6 Bathrooms', '2 Toilets', '1 Toilet',\n",
       "       '4 Toilets', '7 Bathrooms', '3 Toilets', '5 Toilets',\n",
       "       '10 Bathrooms', '6 Toilets', '7 Toilets', '22 Bathrooms',\n",
       "       '8 Bathrooms', '12 Bathrooms', '9 Bathrooms', '20 Bathrooms',\n",
       "       '32 Bathrooms', '332 sqm Covered Area', '1,900 sqm Covered Area',\n",
       "       '17 Bathrooms', '16 Bathrooms', '36 Bathrooms', '43 Bathrooms',\n",
       "       '15 Bathrooms', '14 Bathrooms', '25 sqm Covered Area',\n",
       "       '11 Bathrooms', '48 Bathrooms', '13 Bathrooms',\n",
       "       '200 sqm Covered Area', '25 Bathrooms', '90 Bathrooms',\n",
       "       '18 Bathrooms', '45 Toilets', '500 Bathrooms',\n",
       "       '630 sqm Covered Area', '33 Bathrooms', '56 Bathrooms',\n",
       "       '500 sqm Covered Area', '15 Toilets', '28 Bathrooms',\n",
       "       '23 Bathrooms', '322 sqm Covered Area', '287 Bathrooms',\n",
       "       '180 sqm Covered Area', '900 sqm Total Area', '14 Toilets',\n",
       "       '350 sqm Covered Area', '24 Bathrooms', '1,200 sqm Covered Area',\n",
       "       '436 sqm Total Area', '32 Toilets', '44 Toilets', '72 Bathrooms',\n",
       "       '8 Toilets', '39 Bathrooms', '55 Toilets', '65 Toilets',\n",
       "       '1,700 sqm Total Area', '21 Bathrooms', '1,000 sqm Covered Area',\n",
       "       '45 Bathrooms', '37 Bathrooms', '400 Bathrooms', '40 Bathrooms',\n",
       "       '38 Bathrooms'], dtype=object)"
      ]
     },
     "execution_count": 578,
     "metadata": {},
     "output_type": "execute_result"
    }
   ],
   "source": [
    "#Same process as above to remove unwanted data values\n",
    "data.bathrooms.unique()"
   ]
  },
  {
   "cell_type": "code",
   "execution_count": 579,
   "metadata": {},
   "outputs": [],
   "source": [
    "data['bathrooms'] = data['bathrooms'].apply(lambda x: x if ('Bathroom') in x else '')"
   ]
  },
  {
   "cell_type": "code",
   "execution_count": 580,
   "metadata": {},
   "outputs": [
    {
     "data": {
      "text/plain": [
       "array(['2 Bathrooms', '3 Bathrooms', '1 Bathroom', '5 Bathrooms',\n",
       "       '4 Bathrooms', '', '6 Bathrooms', '7 Bathrooms', '10 Bathrooms',\n",
       "       '22 Bathrooms', '8 Bathrooms', '12 Bathrooms', '9 Bathrooms',\n",
       "       '20 Bathrooms', '32 Bathrooms', '17 Bathrooms', '16 Bathrooms',\n",
       "       '36 Bathrooms', '43 Bathrooms', '15 Bathrooms', '14 Bathrooms',\n",
       "       '11 Bathrooms', '48 Bathrooms', '13 Bathrooms', '25 Bathrooms',\n",
       "       '90 Bathrooms', '18 Bathrooms', '500 Bathrooms', '33 Bathrooms',\n",
       "       '56 Bathrooms', '28 Bathrooms', '23 Bathrooms', '287 Bathrooms',\n",
       "       '24 Bathrooms', '72 Bathrooms', '39 Bathrooms', '21 Bathrooms',\n",
       "       '45 Bathrooms', '37 Bathrooms', '400 Bathrooms', '40 Bathrooms',\n",
       "       '38 Bathrooms'], dtype=object)"
      ]
     },
     "execution_count": 580,
     "metadata": {},
     "output_type": "execute_result"
    }
   ],
   "source": [
    "data.bathrooms.unique()"
   ]
  },
  {
   "cell_type": "code",
   "execution_count": 581,
   "metadata": {},
   "outputs": [],
   "source": [
    "#Same to toilets\n",
    "data['toilets'] = data['toilets'].apply(lambda x: x if ('Toilet') in x else '')"
   ]
  },
  {
   "cell_type": "code",
   "execution_count": 582,
   "metadata": {},
   "outputs": [
    {
     "data": {
      "text/plain": [
       "array(['2 Toilets', '4 Toilets', '1 Toilet', '3 Toilets', '6 Toilets',\n",
       "       '5 Toilets', '', '7 Toilets', '8 Toilets', '11 Toilets',\n",
       "       '29 Toilets', '13 Toilets', '12 Toilets', '9 Toilets',\n",
       "       '20 Toilets', '40 Toilets', '23 Toilets', '48 Toilets',\n",
       "       '18 Toilets', '10 Toilets', '17 Toilets', '15 Toilets',\n",
       "       '22 Toilets', '32 Toilets', '16 Toilets', '36 Toilets',\n",
       "       '46 Toilets', '14 Toilets', '25 Toilets', '100 Toilets',\n",
       "       '45 Toilets', '38 Toilets', '33 Toilets', '66 Toilets',\n",
       "       '30 Toilets', '24 Toilets', '21 Toilets', '44 Toilets',\n",
       "       '96 Toilets', '55 Toilets', '65 Toilets', '26 Toilets',\n",
       "       '47 Toilets'], dtype=object)"
      ]
     },
     "execution_count": 582,
     "metadata": {},
     "output_type": "execute_result"
    }
   ],
   "source": [
    "data['toilets'].unique()"
   ]
  },
  {
   "cell_type": "code",
   "execution_count": 583,
   "metadata": {},
   "outputs": [],
   "source": [
    "#Same to parking space\n",
    "data['parking space'] = data['parking space'].apply(lambda x: x if ('Parking Space') in x else '')"
   ]
  },
  {
   "cell_type": "code",
   "execution_count": 584,
   "metadata": {},
   "outputs": [
    {
     "data": {
      "text/plain": [
       "array(['1 Parking Space', '2 Parking Spaces', '', '3 Parking Spaces',\n",
       "       '4 Parking Spaces', '12 Parking Spaces', '5 Parking Spaces',\n",
       "       '6 Parking Spaces', '20 Parking Spaces', '9 Parking Spaces',\n",
       "       '8 Parking Spaces', '10 Parking Spaces', '7 Parking Spaces',\n",
       "       '500 Parking Spaces', '28 Parking Spaces', '11 Parking Spaces',\n",
       "       '25 Parking Spaces', '15 Parking Spaces', '16 Parking Spaces',\n",
       "       '18 Parking Spaces', '50 Parking Spaces', '13 Parking Spaces',\n",
       "       '30 Parking Spaces', '32 Parking Spaces', '60 Parking Spaces',\n",
       "       '35 Parking Spaces', '45 Parking Spaces', '1000 Parking Spaces',\n",
       "       '24 Parking Spaces', '23 Parking Spaces', '250 Parking Spaces',\n",
       "       '14 Parking Spaces', '80 Parking Spaces', '40 Parking Spaces',\n",
       "       '300 Parking Spaces', '120 Parking Spaces', '150 Parking Spaces',\n",
       "       '100 Parking Spaces', '200 Parking Spaces', '22 Parking Spaces',\n",
       "       '5000 Parking Spaces', '600 Parking Spaces', '70 Parking Spaces',\n",
       "       '52 Parking Spaces', '54 Parking Spaces', '17 Parking Spaces',\n",
       "       '800 Parking Spaces', '65 Parking Spaces', '21 Parking Spaces'],\n",
       "      dtype=object)"
      ]
     },
     "execution_count": 584,
     "metadata": {},
     "output_type": "execute_result"
    }
   ],
   "source": [
    "data['parking space'].unique()"
   ]
  },
  {
   "cell_type": "code",
   "execution_count": 585,
   "metadata": {},
   "outputs": [
    {
     "data": {
      "text/plain": [
       "array([ 2.,  3.,  1.,  5.,  4.,  6., nan, 10.,  7.,  8., 22.,  9., 11.,\n",
       "       50., 20., 32., 17., 36., 12., 16., 15., 31., 18., 96., 14., 13.,\n",
       "       19., 33., 56., 28., 52., 72., 39., 24., 21., 35., 37.])"
      ]
     },
     "execution_count": 585,
     "metadata": {},
     "output_type": "execute_result"
    }
   ],
   "source": [
    "#code to get only the number of bedrroms by splitting the data value and taking value at index 0\n",
    "data.bedrooms = data.bedrooms.apply(lambda x: str(x))\n",
    "data.bedrooms = data.bedrooms.str.split(pat = ' ', expand = True )[0]\n",
    "data['bedrooms']= pd.to_numeric(data['bedrooms'], errors='coerce').round(2)\n",
    "data.bedrooms.unique()"
   ]
  },
  {
   "cell_type": "code",
   "execution_count": 586,
   "metadata": {},
   "outputs": [
    {
     "data": {
      "text/plain": [
       "bedrooms\n",
       "4.0     5654\n",
       "3.0     4878\n",
       "2.0     3874\n",
       "1.0     2454\n",
       "5.0     1570\n",
       "6.0      206\n",
       "10.0      41\n",
       "7.0       36\n",
       "8.0       20\n",
       "12.0      12\n",
       "9.0        9\n",
       "11.0       8\n",
       "13.0       6\n",
       "15.0       6\n",
       "20.0       6\n",
       "16.0       5\n",
       "32.0       4\n",
       "22.0       4\n",
       "37.0       3\n",
       "24.0       3\n",
       "17.0       3\n",
       "18.0       2\n",
       "28.0       1\n",
       "35.0       1\n",
       "21.0       1\n",
       "39.0       1\n",
       "72.0       1\n",
       "52.0       1\n",
       "36.0       1\n",
       "56.0       1\n",
       "19.0       1\n",
       "14.0       1\n",
       "96.0       1\n",
       "31.0       1\n",
       "50.0       1\n",
       "33.0       1\n",
       "Name: count, dtype: int64"
      ]
     },
     "execution_count": 586,
     "metadata": {},
     "output_type": "execute_result"
    }
   ],
   "source": [
    "data['bedrooms'].value_counts()"
   ]
  },
  {
   "cell_type": "code",
   "execution_count": 587,
   "metadata": {},
   "outputs": [
    {
     "data": {
      "text/plain": [
       "array([  2.,   3.,   1.,   5.,   4.,  nan,   6.,   7.,  10.,  22.,   8.,\n",
       "        12.,   9.,  20.,  32.,  17.,  16.,  36.,  43.,  15.,  14.,  11.,\n",
       "        48.,  13.,  25.,  90.,  18., 500.,  33.,  56.,  28.,  23., 287.,\n",
       "        24.,  72.,  39.,  21.,  45.,  37., 400.,  40.,  38.])"
      ]
     },
     "execution_count": 587,
     "metadata": {},
     "output_type": "execute_result"
    }
   ],
   "source": [
    "#same as above\n",
    "data.bathrooms = data.bathrooms.apply(lambda x: str(x))\n",
    "data.bathrooms = data.bathrooms.str.split(pat = ' ', expand = True )[0]\n",
    "data['bathrooms']= pd.to_numeric(data['bathrooms'], errors='coerce').round(2)\n",
    "data.bathrooms.unique()"
   ]
  },
  {
   "cell_type": "code",
   "execution_count": 588,
   "metadata": {},
   "outputs": [
    {
     "data": {
      "text/plain": [
       "array([  2.,   4.,   1.,   3.,   6.,   5.,  nan,   7.,   8.,  11.,  29.,\n",
       "        13.,  12.,   9.,  20.,  40.,  23.,  48.,  18.,  10.,  17.,  15.,\n",
       "        22.,  32.,  16.,  36.,  46.,  14.,  25., 100.,  45.,  38.,  33.,\n",
       "        66.,  30.,  24.,  21.,  44.,  96.,  55.,  65.,  26.,  47.])"
      ]
     },
     "execution_count": 588,
     "metadata": {},
     "output_type": "execute_result"
    }
   ],
   "source": [
    "#same as above\n",
    "data.toilets = data.toilets.apply(lambda x: str(x))\n",
    "data.toilets = data.toilets.str.split(pat = ' ', expand = True )[0]\n",
    "data.toilets = pd.to_numeric(data.toilets, errors='coerce').round(2)\n",
    "data.toilets.unique()"
   ]
  },
  {
   "cell_type": "code",
   "execution_count": 589,
   "metadata": {},
   "outputs": [
    {
     "data": {
      "text/plain": [
       "array([1.0e+00, 2.0e+00,     nan, 3.0e+00, 4.0e+00, 1.2e+01, 5.0e+00,\n",
       "       6.0e+00, 2.0e+01, 9.0e+00, 8.0e+00, 1.0e+01, 7.0e+00, 5.0e+02,\n",
       "       2.8e+01, 1.1e+01, 2.5e+01, 1.5e+01, 1.6e+01, 1.8e+01, 5.0e+01,\n",
       "       1.3e+01, 3.0e+01, 3.2e+01, 6.0e+01, 3.5e+01, 4.5e+01, 1.0e+03,\n",
       "       2.4e+01, 2.3e+01, 2.5e+02, 1.4e+01, 8.0e+01, 4.0e+01, 3.0e+02,\n",
       "       1.2e+02, 1.5e+02, 1.0e+02, 2.0e+02, 2.2e+01, 5.0e+03, 6.0e+02,\n",
       "       7.0e+01, 5.2e+01, 5.4e+01, 1.7e+01, 8.0e+02, 6.5e+01, 2.1e+01])"
      ]
     },
     "execution_count": 589,
     "metadata": {},
     "output_type": "execute_result"
    }
   ],
   "source": [
    "#Same as above\n",
    "data['parking space'] = data['parking space'].apply(lambda x: str(x))\n",
    "data['parking space'] = data['parking space'].str.split(pat = ' ', expand = True )[0]\n",
    "data['parking space']= pd.to_numeric(data['parking space'], errors='coerce').round(2)\n",
    "data['parking space'].unique()"
   ]
  },
  {
   "cell_type": "code",
   "execution_count": 590,
   "metadata": {},
   "outputs": [
    {
     "data": {
      "text/plain": [
       "desc                0\n",
       "address             0\n",
       "link                0\n",
       "price               0\n",
       "bedrooms         1207\n",
       "bathrooms        2229\n",
       "toilets          2961\n",
       "parking space    8476\n",
       "location            0\n",
       "Estate              0\n",
       "ppty_type           0\n",
       "dtype: int64"
      ]
     },
     "execution_count": 590,
     "metadata": {},
     "output_type": "execute_result"
    }
   ],
   "source": [
    "#New empty rows created as a result of the above processes were dropped\n",
    "data.isnull().sum()"
   ]
  },
  {
   "cell_type": "code",
   "execution_count": 591,
   "metadata": {},
   "outputs": [],
   "source": [
    "data.dropna(inplace= True)"
   ]
  },
  {
   "cell_type": "code",
   "execution_count": 592,
   "metadata": {},
   "outputs": [
    {
     "data": {
      "text/plain": [
       "desc             0\n",
       "address          0\n",
       "link             0\n",
       "price            0\n",
       "bedrooms         0\n",
       "bathrooms        0\n",
       "toilets          0\n",
       "parking space    0\n",
       "location         0\n",
       "Estate           0\n",
       "ppty_type        0\n",
       "dtype: int64"
      ]
     },
     "execution_count": 592,
     "metadata": {},
     "output_type": "execute_result"
    }
   ],
   "source": [
    "data.isnull().sum()"
   ]
  },
  {
   "cell_type": "code",
   "execution_count": 593,
   "metadata": {},
   "outputs": [
    {
     "data": {
      "text/plain": [
       "(10725, 11)"
      ]
     },
     "execution_count": 593,
     "metadata": {},
     "output_type": "execute_result"
    }
   ],
   "source": [
    "data.shape"
   ]
  },
  {
   "cell_type": "code",
   "execution_count": 594,
   "metadata": {},
   "outputs": [
    {
     "data": {
      "text/html": [
       "<div>\n",
       "<style scoped>\n",
       "    .dataframe tbody tr th:only-of-type {\n",
       "        vertical-align: middle;\n",
       "    }\n",
       "\n",
       "    .dataframe tbody tr th {\n",
       "        vertical-align: top;\n",
       "    }\n",
       "\n",
       "    .dataframe thead th {\n",
       "        text-align: right;\n",
       "    }\n",
       "</style>\n",
       "<table border=\"1\" class=\"dataframe\">\n",
       "  <thead>\n",
       "    <tr style=\"text-align: right;\">\n",
       "      <th></th>\n",
       "      <th>desc</th>\n",
       "      <th>address</th>\n",
       "      <th>link</th>\n",
       "      <th>price</th>\n",
       "      <th>bedrooms</th>\n",
       "      <th>bathrooms</th>\n",
       "      <th>toilets</th>\n",
       "      <th>parking space</th>\n",
       "      <th>location</th>\n",
       "      <th>Estate</th>\n",
       "      <th>ppty_type</th>\n",
       "    </tr>\n",
       "  </thead>\n",
       "  <tbody>\n",
       "    <tr>\n",
       "      <th>21680</th>\n",
       "      <td>4 bedroom terraced duplex for rent</td>\n",
       "      <td>Ikoyi, Lagos</td>\n",
       "      <td>https://nigeriapropertycentre.com//for-rent/ho...</td>\n",
       "      <td>15000000.0</td>\n",
       "      <td>4.0</td>\n",
       "      <td>4.0</td>\n",
       "      <td>5.0</td>\n",
       "      <td>12.0</td>\n",
       "      <td>Ikoyi</td>\n",
       "      <td></td>\n",
       "      <td>terraced duplex</td>\n",
       "    </tr>\n",
       "    <tr>\n",
       "      <th>21681</th>\n",
       "      <td>4 bedroom terraced duplex for rent</td>\n",
       "      <td>Ikoyi, Lagos</td>\n",
       "      <td>https://nigeriapropertycentre.com//for-rent/ho...</td>\n",
       "      <td>15000000.0</td>\n",
       "      <td>4.0</td>\n",
       "      <td>4.0</td>\n",
       "      <td>5.0</td>\n",
       "      <td>12.0</td>\n",
       "      <td>Ikoyi</td>\n",
       "      <td></td>\n",
       "      <td>terraced duplex</td>\n",
       "    </tr>\n",
       "    <tr>\n",
       "      <th>21683</th>\n",
       "      <td>2 bedroom flat / apartment for rent</td>\n",
       "      <td>Blue Waters, Lekki, Lagos</td>\n",
       "      <td>https://nigeriapropertycentre.com//for-rent/fl...</td>\n",
       "      <td>13000000.0</td>\n",
       "      <td>2.0</td>\n",
       "      <td>2.0</td>\n",
       "      <td>2.0</td>\n",
       "      <td>1.0</td>\n",
       "      <td>Lekki</td>\n",
       "      <td>Waters, Blue</td>\n",
       "      <td>flat</td>\n",
       "    </tr>\n",
       "    <tr>\n",
       "      <th>21685</th>\n",
       "      <td>2 bedroom flat / apartment for rent</td>\n",
       "      <td>Blue Waters, Lekki, Lagos</td>\n",
       "      <td>https://nigeriapropertycentre.com//for-rent/fl...</td>\n",
       "      <td>13000000.0</td>\n",
       "      <td>2.0</td>\n",
       "      <td>2.0</td>\n",
       "      <td>2.0</td>\n",
       "      <td>1.0</td>\n",
       "      <td>Lekki</td>\n",
       "      <td>Waters, Blue</td>\n",
       "      <td>flat</td>\n",
       "    </tr>\n",
       "    <tr>\n",
       "      <th>21686</th>\n",
       "      <td>1 bedroom mini flat (room and parlour) for rent</td>\n",
       "      <td>Off Admiralty, Lekki Phase 1, Lekki, Lagos</td>\n",
       "      <td>https://nigeriapropertycentre.com//for-rent/fl...</td>\n",
       "      <td>5500000.0</td>\n",
       "      <td>1.0</td>\n",
       "      <td>1.0</td>\n",
       "      <td>1.0</td>\n",
       "      <td>1.0</td>\n",
       "      <td>Lekki</td>\n",
       "      <td>1, Phase</td>\n",
       "      <td>mini flat</td>\n",
       "    </tr>\n",
       "    <tr>\n",
       "      <th>21688</th>\n",
       "      <td>2 bedroom flat / apartment for rent</td>\n",
       "      <td>Blue Waters, Lekki, Lagos</td>\n",
       "      <td>https://nigeriapropertycentre.com//for-rent/fl...</td>\n",
       "      <td>13000000.0</td>\n",
       "      <td>2.0</td>\n",
       "      <td>2.0</td>\n",
       "      <td>2.0</td>\n",
       "      <td>1.0</td>\n",
       "      <td>Lekki</td>\n",
       "      <td>Waters, Blue</td>\n",
       "      <td>flat</td>\n",
       "    </tr>\n",
       "    <tr>\n",
       "      <th>21689</th>\n",
       "      <td>1 bedroom mini flat (room and parlour) for rent</td>\n",
       "      <td>Off Admiralty, Lekki Phase 1, Lekki, Lagos</td>\n",
       "      <td>https://nigeriapropertycentre.com//for-rent/fl...</td>\n",
       "      <td>5500000.0</td>\n",
       "      <td>1.0</td>\n",
       "      <td>1.0</td>\n",
       "      <td>1.0</td>\n",
       "      <td>1.0</td>\n",
       "      <td>Lekki</td>\n",
       "      <td>1, Phase</td>\n",
       "      <td>mini flat</td>\n",
       "    </tr>\n",
       "    <tr>\n",
       "      <th>21690</th>\n",
       "      <td>4 bedroom terraced duplex for rent</td>\n",
       "      <td>Ikoyi, Lagos</td>\n",
       "      <td>https://nigeriapropertycentre.com//for-rent/ho...</td>\n",
       "      <td>15000000.0</td>\n",
       "      <td>4.0</td>\n",
       "      <td>4.0</td>\n",
       "      <td>5.0</td>\n",
       "      <td>12.0</td>\n",
       "      <td>Ikoyi</td>\n",
       "      <td></td>\n",
       "      <td>terraced duplex</td>\n",
       "    </tr>\n",
       "    <tr>\n",
       "      <th>21691</th>\n",
       "      <td>2 bedroom flat / apartment for rent</td>\n",
       "      <td>Blue Waters, Lekki, Lagos</td>\n",
       "      <td>https://nigeriapropertycentre.com//for-rent/fl...</td>\n",
       "      <td>13000000.0</td>\n",
       "      <td>2.0</td>\n",
       "      <td>2.0</td>\n",
       "      <td>2.0</td>\n",
       "      <td>1.0</td>\n",
       "      <td>Lekki</td>\n",
       "      <td>Waters, Blue</td>\n",
       "      <td>flat</td>\n",
       "    </tr>\n",
       "    <tr>\n",
       "      <th>21692</th>\n",
       "      <td>4 bedroom terraced duplex for rent</td>\n",
       "      <td>Ikoyi, Lagos</td>\n",
       "      <td>https://nigeriapropertycentre.com//for-rent/ho...</td>\n",
       "      <td>15000000.0</td>\n",
       "      <td>4.0</td>\n",
       "      <td>4.0</td>\n",
       "      <td>5.0</td>\n",
       "      <td>12.0</td>\n",
       "      <td>Ikoyi</td>\n",
       "      <td></td>\n",
       "      <td>terraced duplex</td>\n",
       "    </tr>\n",
       "    <tr>\n",
       "      <th>21693</th>\n",
       "      <td>1 bedroom mini flat (room and parlour) for rent</td>\n",
       "      <td>Off Admiralty, Lekki Phase 1, Lekki, Lagos</td>\n",
       "      <td>https://nigeriapropertycentre.com//for-rent/fl...</td>\n",
       "      <td>5500000.0</td>\n",
       "      <td>1.0</td>\n",
       "      <td>1.0</td>\n",
       "      <td>1.0</td>\n",
       "      <td>1.0</td>\n",
       "      <td>Lekki</td>\n",
       "      <td>1, Phase</td>\n",
       "      <td>mini flat</td>\n",
       "    </tr>\n",
       "    <tr>\n",
       "      <th>21696</th>\n",
       "      <td>2 bedroom flat / apartment for rent</td>\n",
       "      <td>Blue Waters, Lekki, Lagos</td>\n",
       "      <td>https://nigeriapropertycentre.com//for-rent/fl...</td>\n",
       "      <td>13000000.0</td>\n",
       "      <td>2.0</td>\n",
       "      <td>2.0</td>\n",
       "      <td>2.0</td>\n",
       "      <td>1.0</td>\n",
       "      <td>Lekki</td>\n",
       "      <td>Waters, Blue</td>\n",
       "      <td>flat</td>\n",
       "    </tr>\n",
       "    <tr>\n",
       "      <th>21697</th>\n",
       "      <td>4 bedroom terraced duplex for rent</td>\n",
       "      <td>Ikoyi, Lagos</td>\n",
       "      <td>https://nigeriapropertycentre.com//for-rent/ho...</td>\n",
       "      <td>15000000.0</td>\n",
       "      <td>4.0</td>\n",
       "      <td>4.0</td>\n",
       "      <td>5.0</td>\n",
       "      <td>12.0</td>\n",
       "      <td>Ikoyi</td>\n",
       "      <td></td>\n",
       "      <td>terraced duplex</td>\n",
       "    </tr>\n",
       "    <tr>\n",
       "      <th>21700</th>\n",
       "      <td>4 bedroom terraced duplex for rent</td>\n",
       "      <td>Ikoyi, Lagos</td>\n",
       "      <td>https://nigeriapropertycentre.com//for-rent/ho...</td>\n",
       "      <td>15000000.0</td>\n",
       "      <td>4.0</td>\n",
       "      <td>4.0</td>\n",
       "      <td>5.0</td>\n",
       "      <td>12.0</td>\n",
       "      <td>Ikoyi</td>\n",
       "      <td></td>\n",
       "      <td>terraced duplex</td>\n",
       "    </tr>\n",
       "    <tr>\n",
       "      <th>21701</th>\n",
       "      <td>4 bedroom terraced duplex for rent</td>\n",
       "      <td>Ikoyi, Lagos</td>\n",
       "      <td>https://nigeriapropertycentre.com//for-rent/ho...</td>\n",
       "      <td>15000000.0</td>\n",
       "      <td>4.0</td>\n",
       "      <td>4.0</td>\n",
       "      <td>5.0</td>\n",
       "      <td>12.0</td>\n",
       "      <td>Ikoyi</td>\n",
       "      <td></td>\n",
       "      <td>terraced duplex</td>\n",
       "    </tr>\n",
       "    <tr>\n",
       "      <th>21702</th>\n",
       "      <td>1 bedroom mini flat (room and parlour) for rent</td>\n",
       "      <td>Off Admiralty, Lekki Phase 1, Lekki, Lagos</td>\n",
       "      <td>https://nigeriapropertycentre.com//for-rent/fl...</td>\n",
       "      <td>5500000.0</td>\n",
       "      <td>1.0</td>\n",
       "      <td>1.0</td>\n",
       "      <td>1.0</td>\n",
       "      <td>1.0</td>\n",
       "      <td>Lekki</td>\n",
       "      <td>1, Phase</td>\n",
       "      <td>mini flat</td>\n",
       "    </tr>\n",
       "    <tr>\n",
       "      <th>21703</th>\n",
       "      <td>2 bedroom flat / apartment for rent</td>\n",
       "      <td>Blue Waters, Lekki, Lagos</td>\n",
       "      <td>https://nigeriapropertycentre.com//for-rent/fl...</td>\n",
       "      <td>13000000.0</td>\n",
       "      <td>2.0</td>\n",
       "      <td>2.0</td>\n",
       "      <td>2.0</td>\n",
       "      <td>1.0</td>\n",
       "      <td>Lekki</td>\n",
       "      <td>Waters, Blue</td>\n",
       "      <td>flat</td>\n",
       "    </tr>\n",
       "    <tr>\n",
       "      <th>21704</th>\n",
       "      <td>1 bedroom mini flat (room and parlour) for rent</td>\n",
       "      <td>Off Admiralty, Lekki Phase 1, Lekki, Lagos</td>\n",
       "      <td>https://nigeriapropertycentre.com//for-rent/fl...</td>\n",
       "      <td>5500000.0</td>\n",
       "      <td>1.0</td>\n",
       "      <td>1.0</td>\n",
       "      <td>1.0</td>\n",
       "      <td>1.0</td>\n",
       "      <td>Lekki</td>\n",
       "      <td>1, Phase</td>\n",
       "      <td>mini flat</td>\n",
       "    </tr>\n",
       "    <tr>\n",
       "      <th>21705</th>\n",
       "      <td>4 bedroom terraced duplex for rent</td>\n",
       "      <td>Ikoyi, Lagos</td>\n",
       "      <td>https://nigeriapropertycentre.com//for-rent/ho...</td>\n",
       "      <td>15000000.0</td>\n",
       "      <td>4.0</td>\n",
       "      <td>4.0</td>\n",
       "      <td>5.0</td>\n",
       "      <td>12.0</td>\n",
       "      <td>Ikoyi</td>\n",
       "      <td></td>\n",
       "      <td>terraced duplex</td>\n",
       "    </tr>\n",
       "    <tr>\n",
       "      <th>21707</th>\n",
       "      <td>4 bedroom terraced duplex for rent</td>\n",
       "      <td>Ikoyi, Lagos</td>\n",
       "      <td>https://nigeriapropertycentre.com//for-rent/ho...</td>\n",
       "      <td>15000000.0</td>\n",
       "      <td>4.0</td>\n",
       "      <td>4.0</td>\n",
       "      <td>5.0</td>\n",
       "      <td>12.0</td>\n",
       "      <td>Ikoyi</td>\n",
       "      <td></td>\n",
       "      <td>terraced duplex</td>\n",
       "    </tr>\n",
       "  </tbody>\n",
       "</table>\n",
       "</div>"
      ],
      "text/plain": [
       "                                                  desc  \\\n",
       "21680               4 bedroom terraced duplex for rent   \n",
       "21681               4 bedroom terraced duplex for rent   \n",
       "21683              2 bedroom flat / apartment for rent   \n",
       "21685              2 bedroom flat / apartment for rent   \n",
       "21686  1 bedroom mini flat (room and parlour) for rent   \n",
       "21688              2 bedroom flat / apartment for rent   \n",
       "21689  1 bedroom mini flat (room and parlour) for rent   \n",
       "21690               4 bedroom terraced duplex for rent   \n",
       "21691              2 bedroom flat / apartment for rent   \n",
       "21692               4 bedroom terraced duplex for rent   \n",
       "21693  1 bedroom mini flat (room and parlour) for rent   \n",
       "21696              2 bedroom flat / apartment for rent   \n",
       "21697               4 bedroom terraced duplex for rent   \n",
       "21700               4 bedroom terraced duplex for rent   \n",
       "21701               4 bedroom terraced duplex for rent   \n",
       "21702  1 bedroom mini flat (room and parlour) for rent   \n",
       "21703              2 bedroom flat / apartment for rent   \n",
       "21704  1 bedroom mini flat (room and parlour) for rent   \n",
       "21705               4 bedroom terraced duplex for rent   \n",
       "21707               4 bedroom terraced duplex for rent   \n",
       "\n",
       "                                          address  \\\n",
       "21680                                Ikoyi, Lagos   \n",
       "21681                                Ikoyi, Lagos   \n",
       "21683                   Blue Waters, Lekki, Lagos   \n",
       "21685                   Blue Waters, Lekki, Lagos   \n",
       "21686  Off Admiralty, Lekki Phase 1, Lekki, Lagos   \n",
       "21688                   Blue Waters, Lekki, Lagos   \n",
       "21689  Off Admiralty, Lekki Phase 1, Lekki, Lagos   \n",
       "21690                                Ikoyi, Lagos   \n",
       "21691                   Blue Waters, Lekki, Lagos   \n",
       "21692                                Ikoyi, Lagos   \n",
       "21693  Off Admiralty, Lekki Phase 1, Lekki, Lagos   \n",
       "21696                   Blue Waters, Lekki, Lagos   \n",
       "21697                                Ikoyi, Lagos   \n",
       "21700                                Ikoyi, Lagos   \n",
       "21701                                Ikoyi, Lagos   \n",
       "21702  Off Admiralty, Lekki Phase 1, Lekki, Lagos   \n",
       "21703                   Blue Waters, Lekki, Lagos   \n",
       "21704  Off Admiralty, Lekki Phase 1, Lekki, Lagos   \n",
       "21705                                Ikoyi, Lagos   \n",
       "21707                                Ikoyi, Lagos   \n",
       "\n",
       "                                                    link       price  \\\n",
       "21680  https://nigeriapropertycentre.com//for-rent/ho...  15000000.0   \n",
       "21681  https://nigeriapropertycentre.com//for-rent/ho...  15000000.0   \n",
       "21683  https://nigeriapropertycentre.com//for-rent/fl...  13000000.0   \n",
       "21685  https://nigeriapropertycentre.com//for-rent/fl...  13000000.0   \n",
       "21686  https://nigeriapropertycentre.com//for-rent/fl...   5500000.0   \n",
       "21688  https://nigeriapropertycentre.com//for-rent/fl...  13000000.0   \n",
       "21689  https://nigeriapropertycentre.com//for-rent/fl...   5500000.0   \n",
       "21690  https://nigeriapropertycentre.com//for-rent/ho...  15000000.0   \n",
       "21691  https://nigeriapropertycentre.com//for-rent/fl...  13000000.0   \n",
       "21692  https://nigeriapropertycentre.com//for-rent/ho...  15000000.0   \n",
       "21693  https://nigeriapropertycentre.com//for-rent/fl...   5500000.0   \n",
       "21696  https://nigeriapropertycentre.com//for-rent/fl...  13000000.0   \n",
       "21697  https://nigeriapropertycentre.com//for-rent/ho...  15000000.0   \n",
       "21700  https://nigeriapropertycentre.com//for-rent/ho...  15000000.0   \n",
       "21701  https://nigeriapropertycentre.com//for-rent/ho...  15000000.0   \n",
       "21702  https://nigeriapropertycentre.com//for-rent/fl...   5500000.0   \n",
       "21703  https://nigeriapropertycentre.com//for-rent/fl...  13000000.0   \n",
       "21704  https://nigeriapropertycentre.com//for-rent/fl...   5500000.0   \n",
       "21705  https://nigeriapropertycentre.com//for-rent/ho...  15000000.0   \n",
       "21707  https://nigeriapropertycentre.com//for-rent/ho...  15000000.0   \n",
       "\n",
       "       bedrooms  bathrooms  toilets  parking space location        Estate  \\\n",
       "21680       4.0        4.0      5.0           12.0    Ikoyi                 \n",
       "21681       4.0        4.0      5.0           12.0    Ikoyi                 \n",
       "21683       2.0        2.0      2.0            1.0    Lekki  Waters, Blue   \n",
       "21685       2.0        2.0      2.0            1.0    Lekki  Waters, Blue   \n",
       "21686       1.0        1.0      1.0            1.0    Lekki      1, Phase   \n",
       "21688       2.0        2.0      2.0            1.0    Lekki  Waters, Blue   \n",
       "21689       1.0        1.0      1.0            1.0    Lekki      1, Phase   \n",
       "21690       4.0        4.0      5.0           12.0    Ikoyi                 \n",
       "21691       2.0        2.0      2.0            1.0    Lekki  Waters, Blue   \n",
       "21692       4.0        4.0      5.0           12.0    Ikoyi                 \n",
       "21693       1.0        1.0      1.0            1.0    Lekki      1, Phase   \n",
       "21696       2.0        2.0      2.0            1.0    Lekki  Waters, Blue   \n",
       "21697       4.0        4.0      5.0           12.0    Ikoyi                 \n",
       "21700       4.0        4.0      5.0           12.0    Ikoyi                 \n",
       "21701       4.0        4.0      5.0           12.0    Ikoyi                 \n",
       "21702       1.0        1.0      1.0            1.0    Lekki      1, Phase   \n",
       "21703       2.0        2.0      2.0            1.0    Lekki  Waters, Blue   \n",
       "21704       1.0        1.0      1.0            1.0    Lekki      1, Phase   \n",
       "21705       4.0        4.0      5.0           12.0    Ikoyi                 \n",
       "21707       4.0        4.0      5.0           12.0    Ikoyi                 \n",
       "\n",
       "             ppty_type  \n",
       "21680  terraced duplex  \n",
       "21681  terraced duplex  \n",
       "21683            flat   \n",
       "21685            flat   \n",
       "21686        mini flat  \n",
       "21688            flat   \n",
       "21689        mini flat  \n",
       "21690  terraced duplex  \n",
       "21691            flat   \n",
       "21692  terraced duplex  \n",
       "21693        mini flat  \n",
       "21696            flat   \n",
       "21697  terraced duplex  \n",
       "21700  terraced duplex  \n",
       "21701  terraced duplex  \n",
       "21702        mini flat  \n",
       "21703            flat   \n",
       "21704        mini flat  \n",
       "21705  terraced duplex  \n",
       "21707  terraced duplex  "
      ]
     },
     "execution_count": 594,
     "metadata": {},
     "output_type": "execute_result"
    }
   ],
   "source": [
    "data.tail(20)"
   ]
  },
  {
   "cell_type": "markdown",
   "metadata": {},
   "source": [
    "<h3><h2>Removing Outliers<h1>\n",
    "<h5>The initial prediction test was low because of the presence of a lot of outliers like houses with 60 rooms, and those with unrealistic prices that most likely are erroneous. Hence, it is important that I remove outliers from the different affected columns. Hence, using varying quantiles for outlier removals,  our feauture parameters are limited to 5 bedrooms, 5 bathrooms, 5 toilets, 4 parking spaces and max price of N30m <h5>"
   ]
  },
  {
   "cell_type": "code",
   "execution_count": 595,
   "metadata": {},
   "outputs": [
    {
     "data": {
      "text/plain": [
       "5.0"
      ]
     },
     "execution_count": 595,
     "metadata": {},
     "output_type": "execute_result"
    }
   ],
   "source": [
    "bedrooms_max = data['bedrooms'].quantile(0.97)\n",
    "bedrooms_max"
   ]
  },
  {
   "cell_type": "code",
   "execution_count": 596,
   "metadata": {},
   "outputs": [],
   "source": [
    "data = data[data['bedrooms'] <bedrooms_max]"
   ]
  },
  {
   "cell_type": "code",
   "execution_count": 597,
   "metadata": {},
   "outputs": [
    {
     "data": {
      "text/plain": [
       "5.0"
      ]
     },
     "execution_count": 597,
     "metadata": {},
     "output_type": "execute_result"
    }
   ],
   "source": [
    "bathroom_max = data['bathrooms'].quantile(0.97)\n",
    "bathroom_max"
   ]
  },
  {
   "cell_type": "code",
   "execution_count": 598,
   "metadata": {},
   "outputs": [],
   "source": [
    "data = data[data['bathrooms']<bathroom_max]"
   ]
  },
  {
   "cell_type": "code",
   "execution_count": 599,
   "metadata": {},
   "outputs": [
    {
     "data": {
      "text/plain": [
       "5.0"
      ]
     },
     "execution_count": 599,
     "metadata": {},
     "output_type": "execute_result"
    }
   ],
   "source": [
    "toilet_max = data['toilets'].quantile(0.97)\n",
    "toilet_max"
   ]
  },
  {
   "cell_type": "code",
   "execution_count": 600,
   "metadata": {},
   "outputs": [],
   "source": [
    "data = data[data['toilets']<toilet_max]"
   ]
  },
  {
   "cell_type": "code",
   "execution_count": 601,
   "metadata": {},
   "outputs": [
    {
     "data": {
      "text/plain": [
       "4.0"
      ]
     },
     "execution_count": 601,
     "metadata": {},
     "output_type": "execute_result"
    }
   ],
   "source": [
    "parking_max = data['parking space'].quantile(0.80)\n",
    "parking_max"
   ]
  },
  {
   "cell_type": "code",
   "execution_count": 602,
   "metadata": {},
   "outputs": [],
   "source": [
    "data = data[data['parking space']<parking_max]"
   ]
  },
  {
   "cell_type": "code",
   "execution_count": 603,
   "metadata": {},
   "outputs": [
    {
     "data": {
      "text/plain": [
       "count    5.274000e+03\n",
       "mean     9.671601e+06\n",
       "std      1.431457e+08\n",
       "min      1.000000e+05\n",
       "25%      2.500000e+06\n",
       "50%      4.500000e+06\n",
       "75%      8.000000e+06\n",
       "max      1.000000e+10\n",
       "Name: price, dtype: float64"
      ]
     },
     "execution_count": 603,
     "metadata": {},
     "output_type": "execute_result"
    }
   ],
   "source": [
    "data['price'].describe().round(12)"
   ]
  },
  {
   "cell_type": "code",
   "execution_count": 604,
   "metadata": {},
   "outputs": [
    {
     "data": {
      "text/plain": [
       "30000000.0"
      ]
     },
     "execution_count": 604,
     "metadata": {},
     "output_type": "execute_result"
    }
   ],
   "source": [
    "price_max = data['price'].quantile(0.98)\n",
    "price_max"
   ]
  },
  {
   "cell_type": "code",
   "execution_count": 605,
   "metadata": {},
   "outputs": [],
   "source": [
    "data = data[data['price']<price_max]"
   ]
  },
  {
   "cell_type": "code",
   "execution_count": 606,
   "metadata": {},
   "outputs": [
    {
     "data": {
      "text/html": [
       "<div>\n",
       "<style scoped>\n",
       "    .dataframe tbody tr th:only-of-type {\n",
       "        vertical-align: middle;\n",
       "    }\n",
       "\n",
       "    .dataframe tbody tr th {\n",
       "        vertical-align: top;\n",
       "    }\n",
       "\n",
       "    .dataframe thead th {\n",
       "        text-align: right;\n",
       "    }\n",
       "</style>\n",
       "<table border=\"1\" class=\"dataframe\">\n",
       "  <thead>\n",
       "    <tr style=\"text-align: right;\">\n",
       "      <th></th>\n",
       "      <th>price</th>\n",
       "      <th>bedrooms</th>\n",
       "      <th>bathrooms</th>\n",
       "      <th>toilets</th>\n",
       "      <th>parking space</th>\n",
       "    </tr>\n",
       "  </thead>\n",
       "  <tbody>\n",
       "    <tr>\n",
       "      <th>count</th>\n",
       "      <td>5.127000e+03</td>\n",
       "      <td>5127.000000</td>\n",
       "      <td>5127.000000</td>\n",
       "      <td>5127.000000</td>\n",
       "      <td>5127.000000</td>\n",
       "    </tr>\n",
       "    <tr>\n",
       "      <th>mean</th>\n",
       "      <td>5.924588e+06</td>\n",
       "      <td>2.224108</td>\n",
       "      <td>2.283792</td>\n",
       "      <td>2.947143</td>\n",
       "      <td>1.906183</td>\n",
       "    </tr>\n",
       "    <tr>\n",
       "      <th>std</th>\n",
       "      <td>5.191861e+06</td>\n",
       "      <td>0.818187</td>\n",
       "      <td>0.844537</td>\n",
       "      <td>1.014398</td>\n",
       "      <td>0.654805</td>\n",
       "    </tr>\n",
       "    <tr>\n",
       "      <th>min</th>\n",
       "      <td>1.000000e+05</td>\n",
       "      <td>1.000000</td>\n",
       "      <td>1.000000</td>\n",
       "      <td>1.000000</td>\n",
       "      <td>1.000000</td>\n",
       "    </tr>\n",
       "    <tr>\n",
       "      <th>25%</th>\n",
       "      <td>2.300000e+06</td>\n",
       "      <td>2.000000</td>\n",
       "      <td>2.000000</td>\n",
       "      <td>2.000000</td>\n",
       "      <td>1.000000</td>\n",
       "    </tr>\n",
       "    <tr>\n",
       "      <th>50%</th>\n",
       "      <td>4.000000e+06</td>\n",
       "      <td>2.000000</td>\n",
       "      <td>2.000000</td>\n",
       "      <td>3.000000</td>\n",
       "      <td>2.000000</td>\n",
       "    </tr>\n",
       "    <tr>\n",
       "      <th>75%</th>\n",
       "      <td>7.500000e+06</td>\n",
       "      <td>3.000000</td>\n",
       "      <td>3.000000</td>\n",
       "      <td>4.000000</td>\n",
       "      <td>2.000000</td>\n",
       "    </tr>\n",
       "    <tr>\n",
       "      <th>max</th>\n",
       "      <td>2.801000e+07</td>\n",
       "      <td>4.000000</td>\n",
       "      <td>4.000000</td>\n",
       "      <td>4.000000</td>\n",
       "      <td>3.000000</td>\n",
       "    </tr>\n",
       "  </tbody>\n",
       "</table>\n",
       "</div>"
      ],
      "text/plain": [
       "              price     bedrooms    bathrooms      toilets  parking space\n",
       "count  5.127000e+03  5127.000000  5127.000000  5127.000000    5127.000000\n",
       "mean   5.924588e+06     2.224108     2.283792     2.947143       1.906183\n",
       "std    5.191861e+06     0.818187     0.844537     1.014398       0.654805\n",
       "min    1.000000e+05     1.000000     1.000000     1.000000       1.000000\n",
       "25%    2.300000e+06     2.000000     2.000000     2.000000       1.000000\n",
       "50%    4.000000e+06     2.000000     2.000000     3.000000       2.000000\n",
       "75%    7.500000e+06     3.000000     3.000000     4.000000       2.000000\n",
       "max    2.801000e+07     4.000000     4.000000     4.000000       3.000000"
      ]
     },
     "execution_count": 606,
     "metadata": {},
     "output_type": "execute_result"
    }
   ],
   "source": [
    "data.describe()"
   ]
  },
  {
   "cell_type": "markdown",
   "metadata": {},
   "source": [
    "<h3><h2>Data Visualization<h1>"
   ]
  },
  {
   "cell_type": "code",
   "execution_count": 607,
   "metadata": {},
   "outputs": [],
   "source": [
    "def plotter(data, col1, col2, col3, col4, dep):\n",
    "    sns.set(style = 'darkgrid')\n",
    "    plt.figure(figsize=(20,6))\n",
    "\n",
    "    plt.subplot(1, 4, 1)\n",
    "    sns.regplot(data=data, x= col1, y = dep)\n",
    "    plt.title(f'Relationship btw {col1} and {dep} is {(data[dep].corr(data[col1])*100).round(2)}')\n",
    "\n",
    "    plt.subplot(1, 4, 2)\n",
    "    sns.regplot(data=data, x= col2, y = dep)\n",
    "    plt.title(f'Relationship btw {col2} and {dep} is {(data[dep].corr(data[col2])*100).round(2)}')\n",
    "\n",
    "    plt.subplot(1, 4, 3)\n",
    "    sns.regplot(data=data, x= col3, y = dep)\n",
    "    plt.title(f'Relationship btw {col3} and {dep} is {(data[dep].corr(data[col3])*100).round(2)}')\n",
    "\n",
    "    plt.subplot(1, 4, 4)\n",
    "    sns.regplot(data=data, x= col4, y = dep)\n",
    "    plt.title(f'Relationship btw {col4} and {dep} is {(data[dep].corr(data[col4])*100).round(2)}')"
   ]
  },
  {
   "cell_type": "code",
   "execution_count": 608,
   "metadata": {},
   "outputs": [
    {
     "data": {
      "image/png": "[encoded data removed]",
      "text/plain": [
       "<Figure size 2000x600 with 4 Axes>"
      ]
     },
     "metadata": {},
     "output_type": "display_data"
    }
   ],
   "source": [
    "plotter(data, 'bedrooms', 'bathrooms', 'toilets', 'parking space','price')"
   ]
  },
  {
   "cell_type": "code",
   "execution_count": 609,
   "metadata": {},
   "outputs": [
    {
     "data": {
      "text/plain": [
       "Text(0.5, 1.0, 'Price VS Location')"
      ]
     },
     "execution_count": 609,
     "metadata": {},
     "output_type": "execute_result"
    },
    {
     "data": {
      "image/png": "[encoded data removed]",
      "text/plain": [
       "<Figure size 3500x600 with 1 Axes>"
      ]
     },
     "metadata": {},
     "output_type": "display_data"
    }
   ],
   "source": [
    "sns.set(style = 'darkgrid')\n",
    "plt.figure(figsize=(35,6))\n",
    "sns.barplot(data= data, x= data['location'], y = data['price'])\n",
    "plt.title(f'Price VS Location')"
   ]
  },
  {
   "cell_type": "code",
   "execution_count": 620,
   "metadata": {},
   "outputs": [
    {
     "data": {
      "text/plain": [
       "{'LEKKI': array(['Waters, Blue', '', 'Elegushi, Ikate', 'Ikota, Gra,', '1, Phase',\n",
       "        'Idado, Area,', 'Eleganza, Estate,', 'Lagos, Lekki',\n",
       "        'Road, Orchid', 'One, Phase', 'Ikate, Chisco,', 'Ikate, Church,',\n",
       "        'Ikate, Salem,', 'Abijo, Gra,', 'Ikate, Road,', 'Bustop, Ilasan',\n",
       "        'Road, Hotel', 'Ibeju Lagos,', 'Efon, Igbo', 'Ajah, Ilaje',\n",
       "        'Ikate, Illasan,', 'Roundabout, Jakande', 'Ikota, Lagos.,',\n",
       "        'VGC, Vgc,', 'Route, Alternative', 'Ibeju Express,',\n",
       "        'About, Round', 'Drive, Chevron', 'Gate, Toll', 'Ikota, Estate,',\n",
       "        'Ologolo, Estate,', 'Idado, Chevron,', 'Axis, Chevron',\n",
       "        'Ikate, Supermarket,', 'Ologolo, In,', 'Expressway, Lekki',\n",
       "        '2, Phase', 'Ikate, Way,', 'Abijo, Estate,', 'Gra, Ikota',\n",
       "        'Conservation, Chevron', 'Jakande, Way,', 'Ibeju Lakowe,',\n",
       "        'Ikate, Room,', 'Ikate*, Illasan,', 'Route,, Alternative',\n",
       "        'Ibeju Awoyaya,', 'Estate, Villa', 'Road, Beach', 'Estate, Oral',\n",
       "        'VGC, Ikota,', 'Chevron, Estate', 'Orchid, Estate',\n",
       "        'Estate, London', 'Ikate, Kusenla,', 'Osapa, London,',\n",
       "        'Ikota, Area,', 'Ikota, Conservation,', 'Jakande, Estate,',\n",
       "        'Ilasan, Road,', 'Chevron, Road,', 'Highrise, Bluewater',\n",
       "        'I, Phase', 'Right, Lekki', 'Ikate, Right,', 'Ikate, Ikate,',\n",
       "        'View, Chevy', 'Osapa, Estate,', 'Ikate, Street,',\n",
       "        'Orchid, Street', 'Ikota, 16,', 'Ikate, Ilasan,',\n",
       "        'Providence, Off', 'Eleganza, Road,', 'Estate, Access',\n",
       "        'Chevron, Center', 'Ologolo, Apartment,', 'Villa, Ikota',\n",
       "        'Chicken, Mega', 'Ikate, Estate,', 'Estate, Dideolu',\n",
       "        'Agungi, Okafor,', 'VGC, Drive,', 'Road, Conservation',\n",
       "        'Homes, County', 'Chevron, Estate,', 'Estate, Alternative',\n",
       "        'Lane, Glove', 'Ikota, Orchid,', 'Lafiaji, Road,',\n",
       "        'Chevron, Chevyview', 'Ikota, Homes,', 'Estate, 2', 'Estate, View',\n",
       "        'Estate, Didiolu', 'Ikate, Elegushi,', 'Ologolo, Road,',\n",
       "        'Abijo, Majek,', 'Agungi, Estate,', 'Ikate, Court,',\n",
       "        'Way, Freedom', 'Ikate, Lagos,', 'London, Osapa', 'Ikota, 7,',\n",
       "        'Ikota, 3,', 'Town, Nicon', 'Idado, Idado,', 'Ikate, (salem),',\n",
       "        'Ikate, Art,', 'Maruwa, Lekki', 'Ikate, Town,', 'Ologolo, 2,',\n",
       "        'Ologolo, Pizza,', 'Abijo, Gra,,', 'Tollgate, Second',\n",
       "        'Estate, Oniru', 'Alternative, Chevron', 'Osapa, Osapa,',\n",
       "        'Toll-gate, 2nd', 'Ikate, Gardens,', 'Horizon, Garden',\n",
       "        'Abijo, A,', 'Ilasan, Garden,', 'Ilasan, Gardens,',\n",
       "        'Ilasan, Salem,', 'Vgc, Opposite', 'Ikate, Expressway,',\n",
       "        'Eleganza, By', 'Agungi, Road,', 'Estate, Pinnock',\n",
       "        'Idado, Apartment,', 'Ibeju Ise,', 'Ikota, Mobil,',\n",
       "        'Ikate, Ilason,', 'Ikate, 2,', 'Ibeju Elemoro,', 'Agungi, Homes,',\n",
       "        'Ibeju Onosa,', 'Pine, Royal', 'Ibeju Alatishe,',\n",
       "        'Ikate, Gallery,', 'Chevron, Gate', 'Lafiaji, Community,',\n",
       "        'Road, New', 'Estate, Buenevista', 'Ologolo, Maiyegun,',\n",
       "        'Jakande, London,', 'Ikota, Road,', 'Ikota, County,',\n",
       "        'Agungi, Pizza,', 'Osapa, Street,', 'Ikate, Freedom,',\n",
       "        'Roundabout, Adesanya', 'Bustop, Ikate,chisco', 'Orchid, Estate,',\n",
       "        'Ibeju Bogije,', 'Ibeju Estate,', 'Ikate, Oil,', 'Ologolo, Lekki,',\n",
       "        'Conservation, Lekki', 'Ibeju Adisa,', 'Ologolo, Close,',\n",
       "        'Stop, Bus', 'Ibeju Homes,', 'Ibeju Oribanwa,', 'Estate, Pine',\n",
       "        'Ikate, Total,', 'Ibeju Alatise,', 'Ologolo, Balikisu,',\n",
       "        'Agungi, Extension,', 'Lafiaji, Gate,,', 'Lafiaji, Gate,',\n",
       "        'Roundabout, Chevron', 'Ibeju Alatushe,', 'Estate, U3', 'Ibeju ,,',\n",
       "        'Ikota, Estate', 'Estate, Conservation', 'VGC, Garden,',\n",
       "        'Ikota, Vila,', 'Ikota, Chicken,', 'Estate, Bera',\n",
       "        'Agungi, Court,', 'Ikota, Lagos,', 'Abijo, Area,', 'Lekki, Estate',\n",
       "        'Ikota, School,', 'Road, Admiralty', 'Ikota, Lekki,',\n",
       "        'Express, The', 'Beach, Alpha', 'Chevron, Center,',\n",
       "        'Ilasan, Street,', 'Chevron, Opposite', 'Osapa, Road,',\n",
       "        'Idado, Extension,', 'Estate, Salem', 'Estate, Beach',\n",
       "        'Ologolo, Lagos,', 'Orchid, Bay', 'Ologolo, Beach,',\n",
       "        'Estate, Palm', 'Chevron, Conservation,', 'Roundabout, Before',\n",
       "        'Ilasan, Estate,', 'Conservative, Lekki', 'Road, County',\n",
       "        'Ibeju Eputu,', 'Ilasan, Way,', 'Axis, Ikate,', 'Idado, Drive,',\n",
       "        'Estate, Garden', 'Agungi, Ext,', 'Estate, Idado',\n",
       "        'Salem, Street,', 'Axis, Drive', 'Jakande, Road,', 'Vgc, By',\n",
       "        'Estate, Water', 'Ologolo, Spg,', 'Ikate, Garden,', 'Road, Spg',\n",
       "        'Gallery, Art', 'Ikate, Station,', 'Ikate, Hall,',\n",
       "        'Road, Conservative', 'Ibeju 2,', 'Estate*, Daniels',\n",
       "        'Agungi, Balogun,', 'Ibeju Street,', 'Ologolo, Homes,',\n",
       "        'Way, Admiralty', 'Estate, Chevron', 'Idado, Chevron.,',\n",
       "        'Axis, Ikate', 'Ikate, Ade,', 'Salem, Ikate,', 'Tollgate, 2nd',\n",
       "        'Ibeju Shapati,', 'Osapa, Way,', 'Adesanya, Abraham', 'Osapa, 1,',\n",
       "        '2, Scheme', 'Ikate, Lekki,', 'London, Ospap', 'Jakande, Osapa,',\n",
       "        'Osapa, Eletu,', 'Jakande, Shoprite,', 'Ilasan, Ikate,',\n",
       "        'VGC, Stop,', 'Ilasan, Supermarket,', 'View, Southern',\n",
       "        'Estate, Itedo', 'Ikate, Oniru,', 'Ikota, Villa,',\n",
       "        'Ikota, Westend,', 'Idado, Estate,', 'Ilasan, Station,',\n",
       "        'Pizza, Domino', 'Chevron, Conservation', 'One, Lekki',\n",
       "        'Ibeju Orimedu,', 'Osapa, Avenue,', 'Lekki, Ikate',\n",
       "        'Road, Gallery', 'Road, Ogombo', 'Conservation, By', 'Road, Vgc',\n",
       "        'Church, Rock', 'Estate/chevron, Northpointe', 'Ilasan, Stop,',\n",
       "        'Ikate, Road,,', 'Ilasan, Bus-stop,', 'Osapa, Lagos,',\n",
       "        'Ikota, Estate),', 'Olawaye, Admiral', 'Ikate, Gardens',\n",
       "        'VGC, Heaven,', 'Estate, Ologolo', 'Osapa, Court,',\n",
       "        'Phase1, Lekki', 'Oniru, To', 'Osapa, Opposite', 'Eleganza, Gate',\n",
       "        'Sand, White', 'Ikota, Eleganza,', 'Idado, Street,',\n",
       "        'Ikota, Centre,', 'Ilasan, Saleem,', 'Jakande, Avenue,',\n",
       "        'Street, Alo', 'Estate, Adesanya,', 'Tollgate., 2nd',\n",
       "        'Road, Tourism', 'Ologolo, Street,'], dtype=object),\n",
       " 'IKOYI': array(['Ikoyi, Old', '', 'Street, Keffi', 'Island, Banana', 'Osborne, 2,',\n",
       "        'Road, Turnbull', 'Osborne, Foreshore,', 'Road, Bourdillion',\n",
       "        '2, Phase', 'Osborne, Estate,', 'Glover, Off', 'Avenue, Thompson',\n",
       "        'Road, Gerrard', 'Estate, Island', 'Lagos, Ikoyi', 'Road, Island',\n",
       "        'Rewane, Alfred', 'Road, Onikoyi', 'Street, Goege',\n",
       "        'Falomo, Awolowo,', 'Estate, Abacha', 'Gerald, Off',\n",
       "        'Road, Rewane', 'Ikoyi, Road', 'Lagos., Ikoyi', 'Estate, 1',\n",
       "        '1, Phase', 'Phase2, Foreshore', 'Osborne, Ii,', 'Road, Kingsway',\n",
       "        '2, Osborne', 'Gerrard, Off', 'Way, Awolowo', 'Road, Rumens',\n",
       "        'Drive, Queens', 'Bourdillion, Off', 'Estate, Parkview',\n",
       "        'Estate, Ikoyi', 'Estate, Osborne', 'Estate, Onikoyi',\n",
       "        'Osborne, Road,', 'Drive), Queens', 'Road, Alexander',\n",
       "        'Road, Bourdillon', 'Estate, Foreshore', 'Bourdillon, Off',\n",
       "        'Road, Burdillion', 'Road, Avenue', 'Falomo, Road,',\n",
       "        'Parkview, Estate,', 'Ikoyi, Central', 'Osborne, Drive,',\n",
       "        'Avenue, Johnson'], dtype=object),\n",
       " '(VI)': array(['Island Victoria'], dtype=object),\n",
       " 'SURULERE': array(['Lawanson, Road,', 'Kilo, Avenue,', 'Masha, Lagos,',\n",
       "        'Ogunlana, Road,', 'Aguda, Street,', 'Lawanson, Off,',\n",
       "        'Kilo, Road,', 'Street, Aboriahade', 'Bakare, Ashimowo',\n",
       "        'Animashaun, Thomas', 'Aguda, Annimashaun,', '', 'Road, Ogunsanya',\n",
       "        'Ojuelegba, Off', 'Moore, Eric', 'Lawanson, Aborishade,',\n",
       "        'Kilo, Rd', 'Lawanson, Stop,', 'Kuye, Adekunle', 'Aguda, Road,',\n",
       "        'Aguda, Lagos,', 'Ogunlana, Lagos,', 'Adelabu, Lagos,',\n",
       "        'Kilo, Lagos,', 'Adelabu, Adelabu,', 'Lawanson, Rd,',\n",
       "        'Kilo, Stop,', 'Road, Ishaga', 'Aguda, Kuye,', 'Lawanson, Lagos,',\n",
       "        'Kilo, Kilo,', 'Iponri, Thomas,', 'Thomas, Bode',\n",
       "        'Ojuelegba, Road,', 'Iponri, Stop,', 'Ogunlana, Off,',\n",
       "        'Estate, Town'], dtype=object),\n",
       " 'AJAH': array(['', 'Lagos., Ajah', 'Lagos, Ajah', 'Road, Addo',\n",
       "        'Adesanya, Abraham', 'Sangotedo, Ogidan,', 'Ilaje, Road,',\n",
       "        'Vgc, Opposite', 'Sangotedo, Estate,', 'Ogombo, Ogombo,',\n",
       "        'Sangotedo, Olokonla,', 'Badore, Estate,', 'Okun-Ajah, Road,',\n",
       "        'Adesunya, Abraham', 'Estate, Thomas', 'Estate, Adesanya',\n",
       "        'Road, Ogombo', 'Langbasa, Estate,', 'Ogombo, Newtown,',\n",
       "        'Sangotedo, Anex,', 'Ogombo, Estate,', 'Ogombo, Pero,',\n",
       "        'Ogombo, Estate,,', 'Olokonla, Skymall,',\n",
       "        'Sangotedo, Supermarket,', 'Estate, Land', 'School, Business',\n",
       "        'Olokonla, Estate,', 'Estate, City', 'Badore, Badore,',\n",
       "        'Sangotedo, Road,', 'Estate, Housing', 'Estate, Shelter',\n",
       "        'Sangotedo, Park,', 'About, Round', 'Sangotedo, Shoprite,',\n",
       "        'Ado, Estate,', 'Estate, Homes', 'Sangotedo, Lbs,',\n",
       "        'Sangotedo, Supermaket,', 'Ogombo, Gate,', 'Estate, 1',\n",
       "        'Olokonla, Court.,', 'Ado, Roundabout,', 'Olokonla, After,',\n",
       "        'Okun-Ajah, Junction,', 'Sangotedo, Court,', 'Thomas, Estate',\n",
       "        'Sangotedo, Palm,', '2, Scheme', 'Estate, Beach',\n",
       "        'Olokonla, School,', 'Estate, United', 'Estate, Amity',\n",
       "        'Badore, -', 'Estate, 2', 'Estate, Greenland', 'Akings, Road,',\n",
       "        'Road, Ado', '5, Phase', 'Road, Mobil', 'Sangotedo, Blenco,',\n",
       "        'Estate, Apata', 'Coker, Femi', 'Ogombo, Road,', 'Park, Fara',\n",
       "        'Ado, Langbasa,', 'Sangotedo, 4,', 'Ado, Road,', 'Abijo, Gra',\n",
       "        'Gra, Abijo', 'Badore, Cooper,', 'Ogombo, Street,', 'City, Palm',\n",
       "        'Sangotedo, Street,', 'Estate, Greenwood', 'Ilaje, Estate,',\n",
       "        'Gra, Main', 'Sangotedo, Park.,', 'Lbs, By', 'Badore, Kolawole,',\n",
       "        'Olokonla, Lagos,', 'Ilaje, Lagos,', 'Ilaje, Road',\n",
       "        'Badore, Estate', 'Lagos, Ajah,', 'Olokonla, Lbs,',\n",
       "        'Estate, Shelters', 'Ogombo, Adesanya,', 'Sangotedo, Aptech,',\n",
       "        'Sangotedo, Majek,', 'Ogombo, Ganiru,', 'Olokonla, Supermarket,',\n",
       "        'Badore, Villa,', 'Nla, Ira', 'Sangotedo, Stop,', 'Badore, Ado,',\n",
       "        'Estate, Cherish', 'Sangotedo, Restaurant,', 'Lamgbasa, Ado',\n",
       "        'Estate, Silverland', 'Estate, Fidiso', 'Sangotedo, Skymall,',\n",
       "        'Sangotedo, Axis,', 'Lekki, Estate', 'Sangotedo, Mall,',\n",
       "        'Road, Mobile', 'Estate, Seaside', 'Lbs, Beside', 'Annex, Therra',\n",
       "        'Olokonla, Axis', 'Sangotedo, Annex,', 'Olokonla, (lbs),',\n",
       "        'Estates, View', 'Ajah, Badore', 'Sangotedo, Fidiso,',\n",
       "        'Estate, Villa', 'Sangotedo, And', 'Annex, Thera', 'Estate, Mobil',\n",
       "        'Paint, General', 'Sangotedo, School,', 'Boulevard, Atlantic',\n",
       "        'Sangotedo, Junction,', 'Estate, Jubilee', 'A, R', '1, Pride',\n",
       "        'Badore, Unity,', 'Sangotedo, &', 'Lbsa, Beside', 'Ajiwe, Estate,',\n",
       "        'Estate, Ashela', 'Sangotedo, Pack,', 'Ogombo, Owode,',\n",
       "        'Estate, Gated', 'Rd, Ado', 'Sangotedo, County,',\n",
       "        'Estate, Fashola', 'Sangotedo, Market,', 'Ajah, Road',\n",
       "        'Abijo, Labora', 'Estate, Gardens', 'Estate, Garden',\n",
       "        'Ajah-lekki, Estate,', 'Olokonla, Ado,', 'Olokonla, Before,',\n",
       "        'Sangotedo, Hanex,', 'Badore, Remlerk,', 'Community, Ilaje',\n",
       "        '3, Phase', 'Ogombo, Street,,', 'Ajah, School', '4, Phase',\n",
       "        'Lbs, Behinds', 'Alasia, Paint,', 'Axis, School',\n",
       "        'Olokonla, Safety,', 'Olokonla, Office,', 'Oluwa, Abijo,',\n",
       "        'Okun-Ajah, Light,', 'Sangotedo, Mejak,', 'Estate,, Adesanya'],\n",
       "       dtype=object),\n",
       " 'YABA': array(['Way, Macaulay', '', 'Yaba, Sabo', 'Adekunle, Way,', 'West, Metta',\n",
       "        'East, Metta', 'Akoka, Stop,', 'Onike, Sabo,',\n",
       "        'Quarters, Yabatech', 'Agoro, Fola', 'Oja, Abule',\n",
       "        'Alagomeji, Central,', 'Sabo, Avenue,', 'Akoka, Road,',\n",
       "        'Macaulay, Herbert', 'Akoka, Pako,', 'Shomolu/yaba, Street,',\n",
       "        'Adekunle, Gym,', 'Adekunle, Station,', 'Adekunle, Estate,',\n",
       "        'Ijesha, Abule', 'Onike, Harrison,', 'Alagomeji, Way,',\n",
       "        'Onike, Road,', 'Adekunle, Bornoway,', 'School, Grammar',\n",
       "        'Jibowu, Cinema,', 'Yaba, Alagomeji', 'Axis, Akoka',\n",
       "        'Estate, Glover', 'Alagomeji, Estate,'], dtype=object),\n",
       " 'MAGODO': array(['1, Phase', '2, Phase', 'Estate, Brooks', '', 'Olowora, Street,',\n",
       "        'Olowora, Isheri,', 'Road, Cmd'], dtype=object),\n",
       " 'IKEJA': array(['Ogba, Lga,', 'Lagos, Ikeja', '2, Phase', '', 'Ogba, Kadiri,',\n",
       "        'Street, Nurudeen', 'Road, Awolowo', 'GRA, Ikeja', 'Avenue, Allen',\n",
       "        'Road, Opebi', 'Jones, Adeniyi', 'Opebi, Street,', 'Street, Toyin',\n",
       "        'Allen, Avenue,', 'Estate, 2', 'Gra, Ikeja', 'Allen, Off',\n",
       "        'Ogba, Ira,', 'Ikeja, Way', '1, Phase', 'Ikeja., Way',\n",
       "        'Ogba, Obawole,', 'Estate, Shonibare', 'Opebi, Awuse,',\n",
       "        'Toyin, Off', 'Mangoro, Estate,', 'Oregun, Estate,',\n",
       "        'Ogba, Estate,', 'Ogba, Road,', 'Cement, Estate,',\n",
       "        'Jones, Adeniji', 'Opebi, Road,', 'Phase1, Isheri', 'Estate, Ajao'],\n",
       "       dtype=object),\n",
       " 'SHOMOLU': array(['Bariga, Bariga,', 'Orthopaedic, National', 'Hospital, General',\n",
       "        '', 'Palmgrove, Shipeolu,', 'Oworonshoki, Olurunfunmi,',\n",
       "        'Fadeyi, Jacob,', 'Obanikoro, Mogaji,', 'Bariga, Akoka,',\n",
       "        'Road, Apata', 'Oworonshoki, Oworo,', 'Bariga, Ilaje,',\n",
       "        'Bariga, Ladilak,'], dtype=object),\n",
       " 'GBAGADA': array(['Estate, Mellenuim', 'Estate, Millennium', 'Oworo, Iyana',\n",
       "        'Soluyi, Estate,', 'Ifako, Estate/oworo', '', 'Garage, New',\n",
       "        'Soluyi, Avenue,', 'Boy, Charley', 'Estate, Mellenium',\n",
       "        'Soluyi, Josodat,', 'Ifako, Estate,', 'Estate, Seaflow',\n",
       "        'Estate, Sholuyi', 'Estate, Millenium', 'Gra, Ogudu', '1, Phase',\n",
       "        'Soluyi, Asa,', 'Estate, Millinieum', 'Estate, Aderemi',\n",
       "        'Soluyi, Okeowo,', 'Estate, Medina', 'Hospital, General',\n",
       "        'Community, Soluyi', 'Pedro, Area,', '2, Phase', 'Extension, 2',\n",
       "        'Pedro, Estate,'], dtype=object),\n",
       " 'MARYLAND': array(['Mende, Lagos,', '', 'Mende, Estate,', 'Estate, Shonibare',\n",
       "        'Estate, Arowojobe', 'Estate, Idiroko'], dtype=object),\n",
       " 'ILUPEJU': array(['Estate, New', 'Estate, Ilupeju', 'Road, Cooker', 'Close, Tinubu',\n",
       "        '', 'Street, Araba', 'Road, Coker', 'Estate, Palmgroove',\n",
       "        'Palmgrove, Estate,', 'Palmgrove, Estate,,'], dtype=object),\n",
       " 'NORTH': array(['Isheri Opic,', ''], dtype=object),\n",
       " 'ALIMOSHO': array(['', 'Egbeda, Estate,', 'Road, Command', 'Egbeda, Stop,'],\n",
       "       dtype=object),\n",
       " 'ISOLO': array(['Estate, Ajao', 'Palace, Ago', 'Ago, Bridge'], dtype=object),\n",
       " 'OGUDU': array(['Ori-oke, Estate,', '', 'Crescent, Ramat', 'GRA, Valley,'],\n",
       "       dtype=object),\n",
       " 'OJODU': array(['Road, Yakoyo', 'Berger, Ojodu', ''], dtype=object),\n",
       " 'KETU': array(['', 'Alapere, Road,', 'Alapere, Agboyi,', 'Ikosi, Gra,',\n",
       "        'Alapere, Estate,', 'Alapere, Street,'], dtype=object),\n",
       " 'IKORODU': array(['Road, Ijede', 'Igbogbo, Shelewu/oreyo,', 'Ijede, Off',\n",
       "        'Igbogbo, Estate,', 'Agric, Area,', 'Igbogbo, Oreyo,',\n",
       "        'Igbogbo, Aiyetoro,', 'Bus-stop, Abuja', 'Igbogbo, Lamide,',\n",
       "        'Igbogbo, Fawole,', 'Igbogbo, Bayeku,', 'Erunwen, Street,',\n",
       "        'Road, Igbogbo', 'Igbogbo, Shelewu,', 'Isiu, Junction,', '',\n",
       "        'Igbogbo, Igbe,', 'Ebute, Odo,', 'Agbede, Stop', 'Ibeshe, Estate,',\n",
       "        'Ibeshe, Community,', 'Agric, Road,', 'Agric, Estate,',\n",
       "        'Ibeshe, Ogunrinde,', 'Igbogbo, Street,'], dtype=object),\n",
       " 'OJO': array(['Okokomaiko, Street,', 'Era, Iyana', 'Iba, Ketu,', 'Iba, B/stop,'],\n",
       "       dtype=object),\n",
       " 'IPAJA': array(['Bus-stop, Church', 'Ayobo, Igesu', '', 'Baruwa, Estate,',\n",
       "        'Command, Estate'], dtype=object),\n",
       " 'OSHODI': array(['Mafoluku, Estate,', 'Mafoluku, Road,', ''], dtype=object),\n",
       " 'IBEJU': array(['Lekki, Ibeju', 'Awoyaya, Estate,'], dtype=object),\n",
       " 'IKOTUN': array(['Ijegun, Road,', 'Ijegun, Estate,', '', 'Egbe, Odubunmi/'],\n",
       "       dtype=object),\n",
       " 'CITY': array(['Atlantic Eko'], dtype=object),\n",
       " 'EPE': array(['', 'Road, Atlantic'], dtype=object),\n",
       " 'KOSOFE': array(['Irawo, Stop,', '12, Mile'], dtype=object),\n",
       " 'ODOFIN': array(['Amuwo Festac,'], dtype=object),\n",
       " 'AGEGE': array(['', 'Egba, Abule', 'Iju-Ishaga, Avenue,'], dtype=object),\n",
       " 'IJEDE': array(['Abule, Igbopa,'], dtype=object)}"
      ]
     },
     "execution_count": 620,
     "metadata": {},
     "output_type": "execute_result"
    }
   ],
   "source": [
    "Area ={}\n",
    "for  i in data.location.unique():\n",
    "    name = i.upper()\n",
    "    Area[name] = data[data['location'] == i ]['Estate'].unique()\n",
    "\n",
    "Area\n",
    "\n"
   ]
  },
  {
   "cell_type": "code",
   "execution_count": 614,
   "metadata": {},
   "outputs": [
    {
     "data": {
      "text/plain": [
       "array(['Lekki', 'Ikoyi', '(VI)', 'Surulere', 'Ajah', 'Yaba', 'Magodo',\n",
       "       'Ikeja', 'Shomolu', 'Gbagada', 'Maryland', 'Ilupeju', 'North',\n",
       "       'Alimosho', 'Isolo', 'Ogudu', 'Ojodu', 'Ketu', 'Ikorodu', 'Ojo',\n",
       "       'Ipaja', 'Oshodi', 'Ibeju', 'Ikotun', 'City', 'Epe', 'Kosofe',\n",
       "       'Odofin', 'Agege', 'Ijede'], dtype=object)"
      ]
     },
     "execution_count": 614,
     "metadata": {},
     "output_type": "execute_result"
    }
   ],
   "source": [
    "data.location.unique()"
   ]
  },
  {
   "cell_type": "code",
   "execution_count": 621,
   "metadata": {},
   "outputs": [],
   "source": [
    "data.to_csv('propertydet.csv', index=False)"
   ]
  },
  {
   "cell_type": "code",
   "execution_count": 468,
   "metadata": {},
   "outputs": [
    {
     "data": {
      "text/plain": [
       "Text(0.5, 1.0, 'Price VS ppty_type')"
      ]
     },
     "execution_count": 468,
     "metadata": {},
     "output_type": "execute_result"
    },
    {
     "data": {
      "image/png": "[encoded data removed]",
      "text/plain": [
       "<Figure size 3500x600 with 1 Axes>"
      ]
     },
     "metadata": {},
     "output_type": "display_data"
    }
   ],
   "source": [
    "sns.set(style = 'darkgrid')\n",
    "plt.figure(figsize=(35,6))\n",
    "sns.barplot(data= data, x= data['ppty_type'], y = data['price'])\n",
    "plt.title(f'Price VS ppty_type')"
   ]
  },
  {
   "cell_type": "markdown",
   "metadata": {},
   "source": [
    "<h3>Encoding of Categorical data to numerical data using the labelencoder<h3>"
   ]
  },
  {
   "cell_type": "code",
   "execution_count": 469,
   "metadata": {},
   "outputs": [],
   "source": [
    "encoder = LabelEncoder()\n",
    "data.location = encoder.fit_transform(data.location)\n",
    "joblib.dump(encoder, open('location.encoder.pkl', 'wb'))"
   ]
  },
  {
   "cell_type": "code",
   "execution_count": 470,
   "metadata": {},
   "outputs": [],
   "source": [
    "encoder = LabelEncoder()\n",
    "data['Estate'] = encoder.fit_transform(data.Estate)\n",
    "joblib.dump(encoder, open('Estate.encoder.pkl', 'wb'))"
   ]
  },
  {
   "cell_type": "code",
   "execution_count": 471,
   "metadata": {},
   "outputs": [],
   "source": [
    "encoder = LabelEncoder()\n",
    "data['ppty_type'] = encoder.fit_transform(data.ppty_type)\n",
    "joblib.dump(encoder, open('ppty_type.encoder.pkl', 'wb'))"
   ]
  },
  {
   "cell_type": "markdown",
   "metadata": {},
   "source": [
    "<h3>Feature Selection: - Using the xgboost, to determine relevant feaures<h3>"
   ]
  },
  {
   "cell_type": "code",
   "execution_count": 472,
   "metadata": {},
   "outputs": [
    {
     "data": {
      "text/plain": [
       "<Axes: title={'center': 'Feature importance'}, xlabel='F score', ylabel='Features'>"
      ]
     },
     "execution_count": 472,
     "metadata": {},
     "output_type": "execute_result"
    },
    {
     "data": {
      "image/png": "[encoded data removed]",
      "text/plain": [
       "<Figure size 640x480 with 1 Axes>"
      ]
     },
     "metadata": {},
     "output_type": "display_data"
    }
   ],
   "source": [
    "x= data.drop(['price','desc', 'address','link'], axis = 1)\n",
    "y = data['price']\n",
    "\n",
    "model = xgb.XGBRegressor()\n",
    "model.fit(x,y)\n",
    "\n",
    "xgb.plot_importance(model, importance_type='weight')"
   ]
  },
  {
   "cell_type": "markdown",
   "metadata": {},
   "source": [
    "<h3> Split my dataset to train and test. I also dropped irrelevant columns which include the parking space despite its relevance highlighted above..This is because of domain knowledge, the erronous inputs noticed on the website and its effect on the predictions<h3>"
   ]
  },
  {
   "cell_type": "code",
   "execution_count": 531,
   "metadata": {},
   "outputs": [
    {
     "data": {
      "text/plain": [
       "(4101, 6)"
      ]
     },
     "metadata": {},
     "output_type": "display_data"
    },
    {
     "data": {
      "text/plain": [
       "(1026, 6)"
      ]
     },
     "metadata": {},
     "output_type": "display_data"
    },
    {
     "data": {
      "text/plain": [
       "(4101,)"
      ]
     },
     "metadata": {},
     "output_type": "display_data"
    },
    {
     "data": {
      "text/plain": [
       "(1026,)"
      ]
     },
     "metadata": {},
     "output_type": "display_data"
    }
   ],
   "source": [
    "x= data.drop(['price','desc', 'parking space','address','link'], axis = 1)\n",
    "y = data['price']\n",
    "\n",
    "xtrain, xtest, ytrain, ytest = train_test_split(x,y, test_size=0.20, random_state= 1000)\n",
    "\n",
    "display(xtrain.shape)\n",
    "display(xtest.shape)\n",
    "display(ytrain.shape)\n",
    "display(ytest.shape)"
   ]
  },
  {
   "cell_type": "markdown",
   "metadata": {},
   "source": [
    "<h3>Used Three different ML models <h3>"
   ]
  },
  {
   "cell_type": "code",
   "execution_count": 541,
   "metadata": {},
   "outputs": [],
   "source": [
    "model_lin = LinearRegression()\n",
    "model_rfn = RandomForestRegressor(n_estimators=100)\n",
    "model_xgb = xgb.XGBRegressor()"
   ]
  },
  {
   "cell_type": "code",
   "execution_count": 542,
   "metadata": {},
   "outputs": [
    {
     "data": {
      "text/html": [
       "<style>#sk-container-id-15 {\n",
       "  /* Definition of color scheme common for light and dark mode */\n",
       "  --sklearn-color-text: black;\n",
       "  --sklearn-color-line: gray;\n",
       "  /* Definition of color scheme for unfitted estimators */\n",
       "  --sklearn-color-unfitted-level-0: #fff5e6;\n",
       "  --sklearn-color-unfitted-level-1: #f6e4d2;\n",
       "  --sklearn-color-unfitted-level-2: #ffe0b3;\n",
       "  --sklearn-color-unfitted-level-3: chocolate;\n",
       "  /* Definition of color scheme for fitted estimators */\n",
       "  --sklearn-color-fitted-level-0: #f0f8ff;\n",
       "  --sklearn-color-fitted-level-1: #d4ebff;\n",
       "  --sklearn-color-fitted-level-2: #b3dbfd;\n",
       "  --sklearn-color-fitted-level-3: cornflowerblue;\n",
       "\n",
       "  /* Specific color for light theme */\n",
       "  --sklearn-color-text-on-default-background: var(--sg-text-color, var(--theme-code-foreground, var(--jp-content-font-color1, black)));\n",
       "  --sklearn-color-background: var(--sg-background-color, var(--theme-background, var(--jp-layout-color0, white)));\n",
       "  --sklearn-color-border-box: var(--sg-text-color, var(--theme-code-foreground, var(--jp-content-font-color1, black)));\n",
       "  --sklearn-color-icon: #696969;\n",
       "\n",
       "  @media (prefers-color-scheme: dark) {\n",
       "    /* Redefinition of color scheme for dark theme */\n",
       "    --sklearn-color-text-on-default-background: var(--sg-text-color, var(--theme-code-foreground, var(--jp-content-font-color1, white)));\n",
       "    --sklearn-color-background: var(--sg-background-color, var(--theme-background, var(--jp-layout-color0, #111)));\n",
       "    --sklearn-color-border-box: var(--sg-text-color, var(--theme-code-foreground, var(--jp-content-font-color1, white)));\n",
       "    --sklearn-color-icon: #878787;\n",
       "  }\n",
       "}\n",
       "\n",
       "#sk-container-id-15 {\n",
       "  color: var(--sklearn-color-text);\n",
       "}\n",
       "\n",
       "#sk-container-id-15 pre {\n",
       "  padding: 0;\n",
       "}\n",
       "\n",
       "#sk-container-id-15 input.sk-hidden--visually {\n",
       "  border: 0;\n",
       "  clip: rect(1px 1px 1px 1px);\n",
       "  clip: rect(1px, 1px, 1px, 1px);\n",
       "  height: 1px;\n",
       "  margin: -1px;\n",
       "  overflow: hidden;\n",
       "  padding: 0;\n",
       "  position: absolute;\n",
       "  width: 1px;\n",
       "}\n",
       "\n",
       "#sk-container-id-15 div.sk-dashed-wrapped {\n",
       "  border: 1px dashed var(--sklearn-color-line);\n",
       "  margin: 0 0.4em 0.5em 0.4em;\n",
       "  box-sizing: border-box;\n",
       "  padding-bottom: 0.4em;\n",
       "  background-color: var(--sklearn-color-background);\n",
       "}\n",
       "\n",
       "#sk-container-id-15 div.sk-container {\n",
       "  /* jupyter's `normalize.less` sets `[hidden] { display: none; }`\n",
       "     but bootstrap.min.css set `[hidden] { display: none !important; }`\n",
       "     so we also need the `!important` here to be able to override the\n",
       "     default hidden behavior on the sphinx rendered scikit-learn.org.\n",
       "     See: https://github.com/scikit-learn/scikit-learn/issues/21755 */\n",
       "  display: inline-block !important;\n",
       "  position: relative;\n",
       "}\n",
       "\n",
       "#sk-container-id-15 div.sk-text-repr-fallback {\n",
       "  display: none;\n",
       "}\n",
       "\n",
       "div.sk-parallel-item,\n",
       "div.sk-serial,\n",
       "div.sk-item {\n",
       "  /* draw centered vertical line to link estimators */\n",
       "  background-image: linear-gradient(var(--sklearn-color-text-on-default-background), var(--sklearn-color-text-on-default-background));\n",
       "  background-size: 2px 100%;\n",
       "  background-repeat: no-repeat;\n",
       "  background-position: center center;\n",
       "}\n",
       "\n",
       "/* Parallel-specific style estimator block */\n",
       "\n",
       "#sk-container-id-15 div.sk-parallel-item::after {\n",
       "  content: \"\";\n",
       "  width: 100%;\n",
       "  border-bottom: 2px solid var(--sklearn-color-text-on-default-background);\n",
       "  flex-grow: 1;\n",
       "}\n",
       "\n",
       "#sk-container-id-15 div.sk-parallel {\n",
       "  display: flex;\n",
       "  align-items: stretch;\n",
       "  justify-content: center;\n",
       "  background-color: var(--sklearn-color-background);\n",
       "  position: relative;\n",
       "}\n",
       "\n",
       "#sk-container-id-15 div.sk-parallel-item {\n",
       "  display: flex;\n",
       "  flex-direction: column;\n",
       "}\n",
       "\n",
       "#sk-container-id-15 div.sk-parallel-item:first-child::after {\n",
       "  align-self: flex-end;\n",
       "  width: 50%;\n",
       "}\n",
       "\n",
       "#sk-container-id-15 div.sk-parallel-item:last-child::after {\n",
       "  align-self: flex-start;\n",
       "  width: 50%;\n",
       "}\n",
       "\n",
       "#sk-container-id-15 div.sk-parallel-item:only-child::after {\n",
       "  width: 0;\n",
       "}\n",
       "\n",
       "/* Serial-specific style estimator block */\n",
       "\n",
       "#sk-container-id-15 div.sk-serial {\n",
       "  display: flex;\n",
       "  flex-direction: column;\n",
       "  align-items: center;\n",
       "  background-color: var(--sklearn-color-background);\n",
       "  padding-right: 1em;\n",
       "  padding-left: 1em;\n",
       "}\n",
       "\n",
       "\n",
       "/* Toggleable style: style used for estimator/Pipeline/ColumnTransformer box that is\n",
       "clickable and can be expanded/collapsed.\n",
       "- Pipeline and ColumnTransformer use this feature and define the default style\n",
       "- Estimators will overwrite some part of the style using the `sk-estimator` class\n",
       "*/\n",
       "\n",
       "/* Pipeline and ColumnTransformer style (default) */\n",
       "\n",
       "#sk-container-id-15 div.sk-toggleable {\n",
       "  /* Default theme specific background. It is overwritten whether we have a\n",
       "  specific estimator or a Pipeline/ColumnTransformer */\n",
       "  background-color: var(--sklearn-color-background);\n",
       "}\n",
       "\n",
       "/* Toggleable label */\n",
       "#sk-container-id-15 label.sk-toggleable__label {\n",
       "  cursor: pointer;\n",
       "  display: block;\n",
       "  width: 100%;\n",
       "  margin-bottom: 0;\n",
       "  padding: 0.5em;\n",
       "  box-sizing: border-box;\n",
       "  text-align: center;\n",
       "}\n",
       "\n",
       "#sk-container-id-15 label.sk-toggleable__label-arrow:before {\n",
       "  /* Arrow on the left of the label */\n",
       "  content: \"▸\";\n",
       "  float: left;\n",
       "  margin-right: 0.25em;\n",
       "  color: var(--sklearn-color-icon);\n",
       "}\n",
       "\n",
       "#sk-container-id-15 label.sk-toggleable__label-arrow:hover:before {\n",
       "  color: var(--sklearn-color-text);\n",
       "}\n",
       "\n",
       "/* Toggleable content - dropdown */\n",
       "\n",
       "#sk-container-id-15 div.sk-toggleable__content {\n",
       "  max-height: 0;\n",
       "  max-width: 0;\n",
       "  overflow: hidden;\n",
       "  text-align: left;\n",
       "  /* unfitted */\n",
       "  background-color: var(--sklearn-color-unfitted-level-0);\n",
       "}\n",
       "\n",
       "#sk-container-id-15 div.sk-toggleable__content.fitted {\n",
       "  /* fitted */\n",
       "  background-color: var(--sklearn-color-fitted-level-0);\n",
       "}\n",
       "\n",
       "#sk-container-id-15 div.sk-toggleable__content pre {\n",
       "  margin: 0.2em;\n",
       "  border-radius: 0.25em;\n",
       "  color: var(--sklearn-color-text);\n",
       "  /* unfitted */\n",
       "  background-color: var(--sklearn-color-unfitted-level-0);\n",
       "}\n",
       "\n",
       "#sk-container-id-15 div.sk-toggleable__content.fitted pre {\n",
       "  /* unfitted */\n",
       "  background-color: var(--sklearn-color-fitted-level-0);\n",
       "}\n",
       "\n",
       "#sk-container-id-15 input.sk-toggleable__control:checked~div.sk-toggleable__content {\n",
       "  /* Expand drop-down */\n",
       "  max-height: 200px;\n",
       "  max-width: 100%;\n",
       "  overflow: auto;\n",
       "}\n",
       "\n",
       "#sk-container-id-15 input.sk-toggleable__control:checked~label.sk-toggleable__label-arrow:before {\n",
       "  content: \"▾\";\n",
       "}\n",
       "\n",
       "/* Pipeline/ColumnTransformer-specific style */\n",
       "\n",
       "#sk-container-id-15 div.sk-label input.sk-toggleable__control:checked~label.sk-toggleable__label {\n",
       "  color: var(--sklearn-color-text);\n",
       "  background-color: var(--sklearn-color-unfitted-level-2);\n",
       "}\n",
       "\n",
       "#sk-container-id-15 div.sk-label.fitted input.sk-toggleable__control:checked~label.sk-toggleable__label {\n",
       "  background-color: var(--sklearn-color-fitted-level-2);\n",
       "}\n",
       "\n",
       "/* Estimator-specific style */\n",
       "\n",
       "/* Colorize estimator box */\n",
       "#sk-container-id-15 div.sk-estimator input.sk-toggleable__control:checked~label.sk-toggleable__label {\n",
       "  /* unfitted */\n",
       "  background-color: var(--sklearn-color-unfitted-level-2);\n",
       "}\n",
       "\n",
       "#sk-container-id-15 div.sk-estimator.fitted input.sk-toggleable__control:checked~label.sk-toggleable__label {\n",
       "  /* fitted */\n",
       "  background-color: var(--sklearn-color-fitted-level-2);\n",
       "}\n",
       "\n",
       "#sk-container-id-15 div.sk-label label.sk-toggleable__label,\n",
       "#sk-container-id-15 div.sk-label label {\n",
       "  /* The background is the default theme color */\n",
       "  color: var(--sklearn-color-text-on-default-background);\n",
       "}\n",
       "\n",
       "/* On hover, darken the color of the background */\n",
       "#sk-container-id-15 div.sk-label:hover label.sk-toggleable__label {\n",
       "  color: var(--sklearn-color-text);\n",
       "  background-color: var(--sklearn-color-unfitted-level-2);\n",
       "}\n",
       "\n",
       "/* Label box, darken color on hover, fitted */\n",
       "#sk-container-id-15 div.sk-label.fitted:hover label.sk-toggleable__label.fitted {\n",
       "  color: var(--sklearn-color-text);\n",
       "  background-color: var(--sklearn-color-fitted-level-2);\n",
       "}\n",
       "\n",
       "/* Estimator label */\n",
       "\n",
       "#sk-container-id-15 div.sk-label label {\n",
       "  font-family: monospace;\n",
       "  font-weight: bold;\n",
       "  display: inline-block;\n",
       "  line-height: 1.2em;\n",
       "}\n",
       "\n",
       "#sk-container-id-15 div.sk-label-container {\n",
       "  text-align: center;\n",
       "}\n",
       "\n",
       "/* Estimator-specific */\n",
       "#sk-container-id-15 div.sk-estimator {\n",
       "  font-family: monospace;\n",
       "  border: 1px dotted var(--sklearn-color-border-box);\n",
       "  border-radius: 0.25em;\n",
       "  box-sizing: border-box;\n",
       "  margin-bottom: 0.5em;\n",
       "  /* unfitted */\n",
       "  background-color: var(--sklearn-color-unfitted-level-0);\n",
       "}\n",
       "\n",
       "#sk-container-id-15 div.sk-estimator.fitted {\n",
       "  /* fitted */\n",
       "  background-color: var(--sklearn-color-fitted-level-0);\n",
       "}\n",
       "\n",
       "/* on hover */\n",
       "#sk-container-id-15 div.sk-estimator:hover {\n",
       "  /* unfitted */\n",
       "  background-color: var(--sklearn-color-unfitted-level-2);\n",
       "}\n",
       "\n",
       "#sk-container-id-15 div.sk-estimator.fitted:hover {\n",
       "  /* fitted */\n",
       "  background-color: var(--sklearn-color-fitted-level-2);\n",
       "}\n",
       "\n",
       "/* Specification for estimator info (e.g. \"i\" and \"?\") */\n",
       "\n",
       "/* Common style for \"i\" and \"?\" */\n",
       "\n",
       ".sk-estimator-doc-link,\n",
       "a:link.sk-estimator-doc-link,\n",
       "a:visited.sk-estimator-doc-link {\n",
       "  float: right;\n",
       "  font-size: smaller;\n",
       "  line-height: 1em;\n",
       "  font-family: monospace;\n",
       "  background-color: var(--sklearn-color-background);\n",
       "  border-radius: 1em;\n",
       "  height: 1em;\n",
       "  width: 1em;\n",
       "  text-decoration: none !important;\n",
       "  margin-left: 1ex;\n",
       "  /* unfitted */\n",
       "  border: var(--sklearn-color-unfitted-level-1) 1pt solid;\n",
       "  color: var(--sklearn-color-unfitted-level-1);\n",
       "}\n",
       "\n",
       ".sk-estimator-doc-link.fitted,\n",
       "a:link.sk-estimator-doc-link.fitted,\n",
       "a:visited.sk-estimator-doc-link.fitted {\n",
       "  /* fitted */\n",
       "  border: var(--sklearn-color-fitted-level-1) 1pt solid;\n",
       "  color: var(--sklearn-color-fitted-level-1);\n",
       "}\n",
       "\n",
       "/* On hover */\n",
       "div.sk-estimator:hover .sk-estimator-doc-link:hover,\n",
       ".sk-estimator-doc-link:hover,\n",
       "div.sk-label-container:hover .sk-estimator-doc-link:hover,\n",
       ".sk-estimator-doc-link:hover {\n",
       "  /* unfitted */\n",
       "  background-color: var(--sklearn-color-unfitted-level-3);\n",
       "  color: var(--sklearn-color-background);\n",
       "  text-decoration: none;\n",
       "}\n",
       "\n",
       "div.sk-estimator.fitted:hover .sk-estimator-doc-link.fitted:hover,\n",
       ".sk-estimator-doc-link.fitted:hover,\n",
       "div.sk-label-container:hover .sk-estimator-doc-link.fitted:hover,\n",
       ".sk-estimator-doc-link.fitted:hover {\n",
       "  /* fitted */\n",
       "  background-color: var(--sklearn-color-fitted-level-3);\n",
       "  color: var(--sklearn-color-background);\n",
       "  text-decoration: none;\n",
       "}\n",
       "\n",
       "/* Span, style for the box shown on hovering the info icon */\n",
       ".sk-estimator-doc-link span {\n",
       "  display: none;\n",
       "  z-index: 9999;\n",
       "  position: relative;\n",
       "  font-weight: normal;\n",
       "  right: .2ex;\n",
       "  padding: .5ex;\n",
       "  margin: .5ex;\n",
       "  width: min-content;\n",
       "  min-width: 20ex;\n",
       "  max-width: 50ex;\n",
       "  color: var(--sklearn-color-text);\n",
       "  box-shadow: 2pt 2pt 4pt #999;\n",
       "  /* unfitted */\n",
       "  background: var(--sklearn-color-unfitted-level-0);\n",
       "  border: .5pt solid var(--sklearn-color-unfitted-level-3);\n",
       "}\n",
       "\n",
       ".sk-estimator-doc-link.fitted span {\n",
       "  /* fitted */\n",
       "  background: var(--sklearn-color-fitted-level-0);\n",
       "  border: var(--sklearn-color-fitted-level-3);\n",
       "}\n",
       "\n",
       ".sk-estimator-doc-link:hover span {\n",
       "  display: block;\n",
       "}\n",
       "\n",
       "/* \"?\"-specific style due to the `<a>` HTML tag */\n",
       "\n",
       "#sk-container-id-15 a.estimator_doc_link {\n",
       "  float: right;\n",
       "  font-size: 1rem;\n",
       "  line-height: 1em;\n",
       "  font-family: monospace;\n",
       "  background-color: var(--sklearn-color-background);\n",
       "  border-radius: 1rem;\n",
       "  height: 1rem;\n",
       "  width: 1rem;\n",
       "  text-decoration: none;\n",
       "  /* unfitted */\n",
       "  color: var(--sklearn-color-unfitted-level-1);\n",
       "  border: var(--sklearn-color-unfitted-level-1) 1pt solid;\n",
       "}\n",
       "\n",
       "#sk-container-id-15 a.estimator_doc_link.fitted {\n",
       "  /* fitted */\n",
       "  border: var(--sklearn-color-fitted-level-1) 1pt solid;\n",
       "  color: var(--sklearn-color-fitted-level-1);\n",
       "}\n",
       "\n",
       "/* On hover */\n",
       "#sk-container-id-15 a.estimator_doc_link:hover {\n",
       "  /* unfitted */\n",
       "  background-color: var(--sklearn-color-unfitted-level-3);\n",
       "  color: var(--sklearn-color-background);\n",
       "  text-decoration: none;\n",
       "}\n",
       "\n",
       "#sk-container-id-15 a.estimator_doc_link.fitted:hover {\n",
       "  /* fitted */\n",
       "  background-color: var(--sklearn-color-fitted-level-3);\n",
       "}\n",
       "</style><div id=\"sk-container-id-15\" class=\"sk-top-container\"><div class=\"sk-text-repr-fallback\"><pre>XGBRegressor(base_score=None, booster=None, callbacks=None,\n",
       "             colsample_bylevel=None, colsample_bynode=None,\n",
       "             colsample_bytree=None, device=None, early_stopping_rounds=None,\n",
       "             enable_categorical=False, eval_metric=None, feature_types=None,\n",
       "             gamma=None, grow_policy=None, importance_type=None,\n",
       "             interaction_constraints=None, learning_rate=None, max_bin=None,\n",
       "             max_cat_threshold=None, max_cat_to_onehot=None,\n",
       "             max_delta_step=None, max_depth=None, max_leaves=None,\n",
       "             min_child_weight=None, missing=nan, monotone_constraints=None,\n",
       "             multi_strategy=None, n_estimators=None, n_jobs=None,\n",
       "             num_parallel_tree=None, random_state=None, ...)</pre><b>In a Jupyter environment, please rerun this cell to show the HTML representation or trust the notebook. <br />On GitHub, the HTML representation is unable to render, please try loading this page with nbviewer.org.</b></div><div class=\"sk-container\" hidden><div class=\"sk-item\"><div class=\"sk-estimator fitted sk-toggleable\"><input class=\"sk-toggleable__control sk-hidden--visually\" id=\"sk-estimator-id-15\" type=\"checkbox\" checked><label for=\"sk-estimator-id-15\" class=\"sk-toggleable__label fitted sk-toggleable__label-arrow fitted\">&nbsp;XGBRegressor<span class=\"sk-estimator-doc-link fitted\">i<span>Fitted</span></span></label><div class=\"sk-toggleable__content fitted\"><pre>XGBRegressor(base_score=None, booster=None, callbacks=None,\n",
       "             colsample_bylevel=None, colsample_bynode=None,\n",
       "             colsample_bytree=None, device=None, early_stopping_rounds=None,\n",
       "             enable_categorical=False, eval_metric=None, feature_types=None,\n",
       "             gamma=None, grow_policy=None, importance_type=None,\n",
       "             interaction_constraints=None, learning_rate=None, max_bin=None,\n",
       "             max_cat_threshold=None, max_cat_to_onehot=None,\n",
       "             max_delta_step=None, max_depth=None, max_leaves=None,\n",
       "             min_child_weight=None, missing=nan, monotone_constraints=None,\n",
       "             multi_strategy=None, n_estimators=None, n_jobs=None,\n",
       "             num_parallel_tree=None, random_state=None, ...)</pre></div> </div></div></div></div>"
      ],
      "text/plain": [
       "XGBRegressor(base_score=None, booster=None, callbacks=None,\n",
       "             colsample_bylevel=None, colsample_bynode=None,\n",
       "             colsample_bytree=None, device=None, early_stopping_rounds=None,\n",
       "             enable_categorical=False, eval_metric=None, feature_types=None,\n",
       "             gamma=None, grow_policy=None, importance_type=None,\n",
       "             interaction_constraints=None, learning_rate=None, max_bin=None,\n",
       "             max_cat_threshold=None, max_cat_to_onehot=None,\n",
       "             max_delta_step=None, max_depth=None, max_leaves=None,\n",
       "             min_child_weight=None, missing=nan, monotone_constraints=None,\n",
       "             multi_strategy=None, n_estimators=None, n_jobs=None,\n",
       "             num_parallel_tree=None, random_state=None, ...)"
      ]
     },
     "execution_count": 542,
     "metadata": {},
     "output_type": "execute_result"
    }
   ],
   "source": [
    "model_lin.fit(xtrain, ytrain)\n",
    "model_rfn.fit(xtrain, ytrain)\n",
    "model_xgb.fit(xtrain, ytrain)"
   ]
  },
  {
   "cell_type": "markdown",
   "metadata": {},
   "source": [
    "<h3>Cross Validated the data using the xtrain and comparing it to ytrain. Random Forest And xgboost gave relatively better results<h3>"
   ]
  },
  {
   "cell_type": "code",
   "execution_count": 543,
   "metadata": {},
   "outputs": [
    {
     "data": {
      "text/plain": [
       "0.16140798683930035"
      ]
     },
     "execution_count": 543,
     "metadata": {},
     "output_type": "execute_result"
    }
   ],
   "source": [
    "cross_validation = model_lin.predict(xtrain)\n",
    "score = r2_score(ytrain, cross_validation)\n",
    "score"
   ]
  },
  {
   "cell_type": "code",
   "execution_count": 544,
   "metadata": {},
   "outputs": [
    {
     "data": {
      "text/plain": [
       "0.8044765557234933"
      ]
     },
     "execution_count": 544,
     "metadata": {},
     "output_type": "execute_result"
    }
   ],
   "source": [
    "cross_validation = model_rfn.predict(xtrain)\n",
    "score = r2_score(ytrain, cross_validation)\n",
    "score"
   ]
  },
  {
   "cell_type": "code",
   "execution_count": 545,
   "metadata": {},
   "outputs": [
    {
     "data": {
      "text/plain": [
       "0.8036444045553413"
      ]
     },
     "execution_count": 545,
     "metadata": {},
     "output_type": "execute_result"
    }
   ],
   "source": [
    "cross_validation = model_xgb.predict(xtrain)\n",
    "score = r2_score(ytrain, cross_validation)\n",
    "score"
   ]
  },
  {
   "cell_type": "markdown",
   "metadata": {},
   "source": [
    "<h3>Results on the test data however shows that the xgboost has the better result of the two with 71.8 r2_score and hence adopted<h3>"
   ]
  },
  {
   "cell_type": "code",
   "execution_count": 546,
   "metadata": {},
   "outputs": [
    {
     "data": {
      "text/plain": [
       "0.7424649136232055"
      ]
     },
     "execution_count": 546,
     "metadata": {},
     "output_type": "execute_result"
    }
   ],
   "source": [
    "ypred1 = model_rfn.predict(xtest)\n",
    "score = r2_score(ytest, ypred1)\n",
    "score"
   ]
  },
  {
   "cell_type": "code",
   "execution_count": 547,
   "metadata": {},
   "outputs": [
    {
     "data": {
      "text/plain": [
       "0.7370270028366112"
      ]
     },
     "execution_count": 547,
     "metadata": {},
     "output_type": "execute_result"
    }
   ],
   "source": [
    "ypred = model_xgb.predict(xtest)\n",
    "score = r2_score(ytest, ypred)\n",
    "score"
   ]
  },
  {
   "cell_type": "code",
   "execution_count": 548,
   "metadata": {},
   "outputs": [],
   "source": [
    "#models saved to joblib\n",
    "model = joblib.load('location.encoder.pkl')\n",
    "model1 = joblib.load('Estate.encoder.pkl')\n",
    "model3 = joblib.load('ppty_type.encoder.pkl')\n",
    "model2 =joblib.dump(model_xgb, open('model_xgb.pkl', 'wb'))\n",
    "model4 =joblib.dump(model_rfn, open('model_rfn.pkl', 'wb'))"
   ]
  },
  {
   "cell_type": "markdown",
   "metadata": {},
   "source": [
    "<h3>A data frame was created, to compare the ypred and the actual<h3>"
   ]
  },
  {
   "cell_type": "code",
   "execution_count": 549,
   "metadata": {},
   "outputs": [
    {
     "data": {
      "text/html": [
       "<div>\n",
       "<style scoped>\n",
       "    .dataframe tbody tr th:only-of-type {\n",
       "        vertical-align: middle;\n",
       "    }\n",
       "\n",
       "    .dataframe tbody tr th {\n",
       "        vertical-align: top;\n",
       "    }\n",
       "\n",
       "    .dataframe thead th {\n",
       "        text-align: right;\n",
       "    }\n",
       "</style>\n",
       "<table border=\"1\" class=\"dataframe\">\n",
       "  <thead>\n",
       "    <tr style=\"text-align: right;\">\n",
       "      <th></th>\n",
       "      <th>Bedrooms</th>\n",
       "      <th>location</th>\n",
       "      <th>Estate</th>\n",
       "      <th>ppty_type</th>\n",
       "      <th>actual</th>\n",
       "      <th>predicted</th>\n",
       "    </tr>\n",
       "  </thead>\n",
       "  <tbody>\n",
       "    <tr>\n",
       "      <th>1851</th>\n",
       "      <td>1.0</td>\n",
       "      <td>Yaba</td>\n",
       "      <td>Quarters, Yabatech</td>\n",
       "      <td>mini flat</td>\n",
       "      <td>1500000.0</td>\n",
       "      <td>1784000.0</td>\n",
       "    </tr>\n",
       "    <tr>\n",
       "      <th>20916</th>\n",
       "      <td>2.0</td>\n",
       "      <td>Lekki</td>\n",
       "      <td>Waters, Blue</td>\n",
       "      <td>flat</td>\n",
       "      <td>13000000.0</td>\n",
       "      <td>13000000.0</td>\n",
       "    </tr>\n",
       "    <tr>\n",
       "      <th>9602</th>\n",
       "      <td>3.0</td>\n",
       "      <td>Ikoyi</td>\n",
       "      <td></td>\n",
       "      <td>flat</td>\n",
       "      <td>20000000.0</td>\n",
       "      <td>14142333.0</td>\n",
       "    </tr>\n",
       "    <tr>\n",
       "      <th>17767</th>\n",
       "      <td>2.0</td>\n",
       "      <td>Lekki</td>\n",
       "      <td>Elegushi, Ikate</td>\n",
       "      <td>flat</td>\n",
       "      <td>3500000.0</td>\n",
       "      <td>6257728.0</td>\n",
       "    </tr>\n",
       "    <tr>\n",
       "      <th>13767</th>\n",
       "      <td>2.0</td>\n",
       "      <td>North</td>\n",
       "      <td></td>\n",
       "      <td>flat</td>\n",
       "      <td>2500000.0</td>\n",
       "      <td>2686018.0</td>\n",
       "    </tr>\n",
       "  </tbody>\n",
       "</table>\n",
       "</div>"
      ],
      "text/plain": [
       "       Bedrooms location              Estate  ppty_type      actual  \\\n",
       "1851        1.0     Yaba  Quarters, Yabatech  mini flat   1500000.0   \n",
       "20916       2.0    Lekki        Waters, Blue      flat   13000000.0   \n",
       "9602        3.0    Ikoyi                          flat   20000000.0   \n",
       "17767       2.0    Lekki     Elegushi, Ikate      flat    3500000.0   \n",
       "13767       2.0    North                          flat    2500000.0   \n",
       "\n",
       "        predicted  \n",
       "1851    1784000.0  \n",
       "20916  13000000.0  \n",
       "9602   14142333.0  \n",
       "17767   6257728.0  \n",
       "13767   2686018.0  "
      ]
     },
     "execution_count": 549,
     "metadata": {},
     "output_type": "execute_result"
    }
   ],
   "source": [
    "compare = pd.DataFrame()\n",
    "compare['Bedrooms'] = xtest['bedrooms']\n",
    "compare['location'] = model.inverse_transform(xtest['location'])\n",
    "compare['Estate'] = model1.inverse_transform(xtest['Estate'])\n",
    "compare['ppty_type'] = model3.inverse_transform(xtest['ppty_type'])\n",
    "compare['actual'] = ytest\n",
    "compare['predicted'] = np.ceil(ypred1.round(2))\n",
    "\n",
    "compare.tail()"
   ]
  }
 ],
 "metadata": {
  "kernelspec": {
   "display_name": "Python 3",
   "language": "python",
   "name": "python3"
  },
  "language_info": {
   "codemirror_mode": {
    "name": "ipython",
    "version": 3
   },
   "file_extension": ".py",
   "mimetype": "text/x-python",
   "name": "python",
   "nbconvert_exporter": "python",
   "pygments_lexer": "ipython3",
   "version": "3.11.5"
  }
 },
 "nbformat": 4,
 "nbformat_minor": 2
}
